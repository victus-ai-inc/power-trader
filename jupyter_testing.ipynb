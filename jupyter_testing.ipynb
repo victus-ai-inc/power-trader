{
 "cells": [
  {
   "cell_type": "code",
   "execution_count": 2,
   "metadata": {},
   "outputs": [],
   "source": [
    "from datetime import datetime, timedelta, date\n",
    "from dateutil.relativedelta import relativedelta\n",
    "import pandas as pd\n",
    "from pandasql import sqldf\n",
    "import streamlit as st\n",
    "import json\n",
    "import pickle\n",
    "import http.client\n",
    "import certifi\n",
    "import ssl\n",
    "import os\n",
    "import altair as alt\n",
    "import pytz\n",
    "import numpy as np\n",
    "tz = pytz.timezone('America/Edmonton')"
   ]
  },
  {
   "cell_type": "code",
   "execution_count": null,
   "metadata": {},
   "outputs": [],
   "source": [
    "with open('./current_df.pickle', 'rb') as token:\n",
    "    current_df = pickle.load(token)\n",
    "current_df = current_df[1]\n",
    "current_df"
   ]
  },
  {
   "cell_type": "code",
   "execution_count": 12,
   "metadata": {},
   "outputs": [
    {
     "ename": "ValueError",
     "evalue": "The default Firebase app already exists. This means you called initialize_app() more than once without providing an app name as the second argument. In most cases you only need to call initialize_app() once. But if you do want to initialize multiple apps, pass a second argument to initialize_app() to give each app a unique name.",
     "output_type": "error",
     "traceback": [
      "\u001b[0;31m---------------------------------------------------------------------------\u001b[0m",
      "\u001b[0;31mValueError\u001b[0m                                Traceback (most recent call last)",
      "\u001b[1;32m/home/ryan-bulger/power-trader/jupyter_testing.ipynb Cell 3\u001b[0m in \u001b[0;36m<cell line: 7>\u001b[0;34m()\u001b[0m\n\u001b[1;32m      <a href='vscode-notebook-cell://wsl%2Bubuntu/home/ryan-bulger/power-trader/jupyter_testing.ipynb#X21sdnNjb2RlLXJlbW90ZQ%3D%3D?line=3'>4</a>\u001b[0m \u001b[39mfrom\u001b[39;00m \u001b[39mfirebase_admin\u001b[39;00m \u001b[39mimport\u001b[39;00m firestore\n\u001b[1;32m      <a href='vscode-notebook-cell://wsl%2Bubuntu/home/ryan-bulger/power-trader/jupyter_testing.ipynb#X21sdnNjb2RlLXJlbW90ZQ%3D%3D?line=5'>6</a>\u001b[0m cred \u001b[39m=\u001b[39m credentials\u001b[39m.\u001b[39mCertificate(st\u001b[39m.\u001b[39msecrets[\u001b[39m\"\u001b[39m\u001b[39mgcp_service_account\u001b[39m\u001b[39m\"\u001b[39m])\n\u001b[0;32m----> <a href='vscode-notebook-cell://wsl%2Bubuntu/home/ryan-bulger/power-trader/jupyter_testing.ipynb#X21sdnNjb2RlLXJlbW90ZQ%3D%3D?line=6'>7</a>\u001b[0m app \u001b[39m=\u001b[39m firebase_admin\u001b[39m.\u001b[39;49minitialize_app(cred)\n\u001b[1;32m      <a href='vscode-notebook-cell://wsl%2Bubuntu/home/ryan-bulger/power-trader/jupyter_testing.ipynb#X21sdnNjb2RlLXJlbW90ZQ%3D%3D?line=7'>8</a>\u001b[0m db \u001b[39m=\u001b[39m firestore\u001b[39m.\u001b[39mclient()\n",
      "File \u001b[0;32m~/miniconda3/lib/python3.9/site-packages/firebase_admin/__init__.py:71\u001b[0m, in \u001b[0;36minitialize_app\u001b[0;34m(credential, options, name)\u001b[0m\n\u001b[1;32m     68\u001b[0m         \u001b[39mreturn\u001b[39;00m app\n\u001b[1;32m     70\u001b[0m \u001b[39mif\u001b[39;00m name \u001b[39m==\u001b[39m _DEFAULT_APP_NAME:\n\u001b[0;32m---> 71\u001b[0m     \u001b[39mraise\u001b[39;00m \u001b[39mValueError\u001b[39;00m((\n\u001b[1;32m     72\u001b[0m         \u001b[39m'\u001b[39m\u001b[39mThe default Firebase app already exists. This means you called \u001b[39m\u001b[39m'\u001b[39m\n\u001b[1;32m     73\u001b[0m         \u001b[39m'\u001b[39m\u001b[39minitialize_app() more than once without providing an app name as \u001b[39m\u001b[39m'\u001b[39m\n\u001b[1;32m     74\u001b[0m         \u001b[39m'\u001b[39m\u001b[39mthe second argument. In most cases you only need to call \u001b[39m\u001b[39m'\u001b[39m\n\u001b[1;32m     75\u001b[0m         \u001b[39m'\u001b[39m\u001b[39minitialize_app() once. But if you do want to initialize multiple \u001b[39m\u001b[39m'\u001b[39m\n\u001b[1;32m     76\u001b[0m         \u001b[39m'\u001b[39m\u001b[39mapps, pass a second argument to initialize_app() to give each app \u001b[39m\u001b[39m'\u001b[39m\n\u001b[1;32m     77\u001b[0m         \u001b[39m'\u001b[39m\u001b[39ma unique name.\u001b[39m\u001b[39m'\u001b[39m))\n\u001b[1;32m     79\u001b[0m \u001b[39mraise\u001b[39;00m \u001b[39mValueError\u001b[39;00m((\n\u001b[1;32m     80\u001b[0m     \u001b[39m'\u001b[39m\u001b[39mFirebase app named \u001b[39m\u001b[39m\"\u001b[39m\u001b[39m{0}\u001b[39;00m\u001b[39m\"\u001b[39m\u001b[39m already exists. This means you called \u001b[39m\u001b[39m'\u001b[39m\n\u001b[1;32m     81\u001b[0m     \u001b[39m'\u001b[39m\u001b[39minitialize_app() more than once with the same app name as the \u001b[39m\u001b[39m'\u001b[39m\n\u001b[1;32m     82\u001b[0m     \u001b[39m'\u001b[39m\u001b[39msecond argument. Make sure you provide a unique name every time \u001b[39m\u001b[39m'\u001b[39m\n\u001b[1;32m     83\u001b[0m     \u001b[39m'\u001b[39m\u001b[39myou call initialize_app().\u001b[39m\u001b[39m'\u001b[39m)\u001b[39m.\u001b[39mformat(name))\n",
      "\u001b[0;31mValueError\u001b[0m: The default Firebase app already exists. This means you called initialize_app() more than once without providing an app name as the second argument. In most cases you only need to call initialize_app() once. But if you do want to initialize multiple apps, pass a second argument to initialize_app() to give each app a unique name."
     ]
    }
   ],
   "source": [
    "#@st.experimental_singleton()\n",
    "import firebase_admin\n",
    "from firebase_admin import credentials\n",
    "from firebase_admin import firestore\n",
    "\n",
    "cred = credentials.Certificate(st.secrets[\"gcp_service_account\"])\n",
    "app = firebase_admin.initialize_app(cred)\n",
    "db = firestore.client()"
   ]
  },
  {
   "cell_type": "code",
   "execution_count": 400,
   "metadata": {},
   "outputs": [
    {
     "data": {
      "text/plain": [
       "dict_keys(['timeStamp', 'value', 'fuelType'])"
      ]
     },
     "execution_count": 400,
     "metadata": {},
     "output_type": "execute_result"
    }
   ],
   "source": [
    "# Set path to Firestore DB\n",
    "currentData_ref = db.collection(u'appData').document('currentData')\n",
    "# Update current_df data in Firestore DB\n",
    "currentData_ref.set(current_df.to_dict('list'))"
   ]
  },
  {
   "cell_type": "code",
   "execution_count": 11,
   "metadata": {},
   "outputs": [
    {
     "data": {
      "text/html": [
       "<div>\n",
       "<style scoped>\n",
       "    .dataframe tbody tr th:only-of-type {\n",
       "        vertical-align: middle;\n",
       "    }\n",
       "\n",
       "    .dataframe tbody tr th {\n",
       "        vertical-align: top;\n",
       "    }\n",
       "\n",
       "    .dataframe thead th {\n",
       "        text-align: right;\n",
       "    }\n",
       "</style>\n",
       "<table border=\"1\" class=\"dataframe\">\n",
       "  <thead>\n",
       "    <tr style=\"text-align: right;\">\n",
       "      <th></th>\n",
       "      <th>value</th>\n",
       "      <th>timeStamp</th>\n",
       "      <th>fuelType</th>\n",
       "    </tr>\n",
       "  </thead>\n",
       "  <tbody>\n",
       "    <tr>\n",
       "      <th>0</th>\n",
       "      <td>814.00</td>\n",
       "      <td>2022-10-12 00:00:00-06:00</td>\n",
       "      <td>Coal</td>\n",
       "    </tr>\n",
       "    <tr>\n",
       "      <th>1</th>\n",
       "      <td>818.00</td>\n",
       "      <td>2022-10-12 00:05:00-06:00</td>\n",
       "      <td>Coal</td>\n",
       "    </tr>\n",
       "    <tr>\n",
       "      <th>2</th>\n",
       "      <td>821.00</td>\n",
       "      <td>2022-10-12 00:10:00-06:00</td>\n",
       "      <td>Coal</td>\n",
       "    </tr>\n",
       "    <tr>\n",
       "      <th>3</th>\n",
       "      <td>817.00</td>\n",
       "      <td>2022-10-12 00:15:00-06:00</td>\n",
       "      <td>Coal</td>\n",
       "    </tr>\n",
       "    <tr>\n",
       "      <th>4</th>\n",
       "      <td>818.00</td>\n",
       "      <td>2022-10-12 00:20:00-06:00</td>\n",
       "      <td>Coal</td>\n",
       "    </tr>\n",
       "    <tr>\n",
       "      <th>...</th>\n",
       "      <td>...</td>\n",
       "      <td>...</td>\n",
       "      <td>...</td>\n",
       "    </tr>\n",
       "    <tr>\n",
       "      <th>5107</th>\n",
       "      <td>0.00</td>\n",
       "      <td>2022-10-13 11:05:00-06:00</td>\n",
       "      <td>Pool Price</td>\n",
       "    </tr>\n",
       "    <tr>\n",
       "      <th>5108</th>\n",
       "      <td>58.22</td>\n",
       "      <td>2022-10-13 11:10:00-06:00</td>\n",
       "      <td>Pool Price</td>\n",
       "    </tr>\n",
       "    <tr>\n",
       "      <th>5109</th>\n",
       "      <td>60.40</td>\n",
       "      <td>2022-10-13 11:15:00-06:00</td>\n",
       "      <td>Pool Price</td>\n",
       "    </tr>\n",
       "    <tr>\n",
       "      <th>5110</th>\n",
       "      <td>60.40</td>\n",
       "      <td>2022-10-13 11:20:00-06:00</td>\n",
       "      <td>Pool Price</td>\n",
       "    </tr>\n",
       "    <tr>\n",
       "      <th>5111</th>\n",
       "      <td>60.40</td>\n",
       "      <td>2022-10-13 11:25:00-06:00</td>\n",
       "      <td>Pool Price</td>\n",
       "    </tr>\n",
       "  </tbody>\n",
       "</table>\n",
       "<p>5112 rows × 3 columns</p>\n",
       "</div>"
      ],
      "text/plain": [
       "       value                 timeStamp    fuelType\n",
       "0     814.00 2022-10-12 00:00:00-06:00        Coal\n",
       "1     818.00 2022-10-12 00:05:00-06:00        Coal\n",
       "2     821.00 2022-10-12 00:10:00-06:00        Coal\n",
       "3     817.00 2022-10-12 00:15:00-06:00        Coal\n",
       "4     818.00 2022-10-12 00:20:00-06:00        Coal\n",
       "...      ...                       ...         ...\n",
       "5107    0.00 2022-10-13 11:05:00-06:00  Pool Price\n",
       "5108   58.22 2022-10-13 11:10:00-06:00  Pool Price\n",
       "5109   60.40 2022-10-13 11:15:00-06:00  Pool Price\n",
       "5110   60.40 2022-10-13 11:20:00-06:00  Pool Price\n",
       "5111   60.40 2022-10-13 11:25:00-06:00  Pool Price\n",
       "\n",
       "[5112 rows x 3 columns]"
      ]
     },
     "execution_count": 11,
     "metadata": {},
     "output_type": "execute_result"
    }
   ],
   "source": [
    "# Set path to Firestore DB\n",
    "currentData_ref = db.collection(u'appData').document('currentData')\n",
    "# Read current_df from Firestore\n",
    "current_df = pd.DataFrame.from_dict(currentData_ref.get().to_dict())\n",
    "current_df['timeStamp'] = current_df['timeStamp'].dt.tz_convert('America/Edmonton') \n",
    "current_df"
   ]
  },
  {
   "cell_type": "code",
   "execution_count": 57,
   "metadata": {},
   "outputs": [
    {
     "data": {
      "text/html": [
       "<div>\n",
       "<style scoped>\n",
       "    .dataframe tbody tr th:only-of-type {\n",
       "        vertical-align: middle;\n",
       "    }\n",
       "\n",
       "    .dataframe tbody tr th {\n",
       "        vertical-align: top;\n",
       "    }\n",
       "\n",
       "    .dataframe thead th {\n",
       "        text-align: right;\n",
       "    }\n",
       "</style>\n",
       "<table border=\"1\" class=\"dataframe\">\n",
       "  <thead>\n",
       "    <tr style=\"text-align: right;\">\n",
       "      <th></th>\n",
       "      <th>timeStamp</th>\n",
       "      <th>value</th>\n",
       "      <th>fuelType</th>\n",
       "    </tr>\n",
       "  </thead>\n",
       "  <tbody>\n",
       "    <tr>\n",
       "      <th>10</th>\n",
       "      <td>2022-11-01 00:00:00-06:00</td>\n",
       "      <td>50</td>\n",
       "      <td>Coal</td>\n",
       "    </tr>\n",
       "    <tr>\n",
       "      <th>11</th>\n",
       "      <td>2022-12-01 00:00:00-07:00</td>\n",
       "      <td>0</td>\n",
       "      <td>Coal</td>\n",
       "    </tr>\n",
       "    <tr>\n",
       "      <th>10</th>\n",
       "      <td>2022-11-01 00:00:00-06:00</td>\n",
       "      <td>1080</td>\n",
       "      <td>Natural Gas</td>\n",
       "    </tr>\n",
       "    <tr>\n",
       "      <th>11</th>\n",
       "      <td>2022-12-01 00:00:00-07:00</td>\n",
       "      <td>780</td>\n",
       "      <td>Natural Gas</td>\n",
       "    </tr>\n",
       "    <tr>\n",
       "      <th>10</th>\n",
       "      <td>2022-11-01 00:00:00-06:00</td>\n",
       "      <td>0</td>\n",
       "      <td>Dual Fuel</td>\n",
       "    </tr>\n",
       "    <tr>\n",
       "      <th>...</th>\n",
       "      <td>...</td>\n",
       "      <td>...</td>\n",
       "      <td>...</td>\n",
       "    </tr>\n",
       "    <tr>\n",
       "      <th>5</th>\n",
       "      <td>2024-06-01 00:00:00-06:00</td>\n",
       "      <td>30</td>\n",
       "      <td>Biomass &amp; Other</td>\n",
       "    </tr>\n",
       "    <tr>\n",
       "      <th>6</th>\n",
       "      <td>2024-07-01 00:00:00-06:00</td>\n",
       "      <td>30</td>\n",
       "      <td>Biomass &amp; Other</td>\n",
       "    </tr>\n",
       "    <tr>\n",
       "      <th>7</th>\n",
       "      <td>2024-08-01 00:00:00-06:00</td>\n",
       "      <td>30</td>\n",
       "      <td>Biomass &amp; Other</td>\n",
       "    </tr>\n",
       "    <tr>\n",
       "      <th>8</th>\n",
       "      <td>2024-09-01 00:00:00-06:00</td>\n",
       "      <td>30</td>\n",
       "      <td>Biomass &amp; Other</td>\n",
       "    </tr>\n",
       "    <tr>\n",
       "      <th>9</th>\n",
       "      <td>2024-10-01 00:00:00-06:00</td>\n",
       "      <td>30</td>\n",
       "      <td>Biomass &amp; Other</td>\n",
       "    </tr>\n",
       "  </tbody>\n",
       "</table>\n",
       "<p>192 rows × 3 columns</p>\n",
       "</div>"
      ],
      "text/plain": [
       "                   timeStamp  value         fuelType\n",
       "10 2022-11-01 00:00:00-06:00     50             Coal\n",
       "11 2022-12-01 00:00:00-07:00      0             Coal\n",
       "10 2022-11-01 00:00:00-06:00   1080      Natural Gas\n",
       "11 2022-12-01 00:00:00-07:00    780      Natural Gas\n",
       "10 2022-11-01 00:00:00-06:00      0        Dual Fuel\n",
       "..                       ...    ...              ...\n",
       "5  2024-06-01 00:00:00-06:00     30  Biomass & Other\n",
       "6  2024-07-01 00:00:00-06:00     30  Biomass & Other\n",
       "7  2024-08-01 00:00:00-06:00     30  Biomass & Other\n",
       "8  2024-09-01 00:00:00-06:00     30  Biomass & Other\n",
       "9  2024-10-01 00:00:00-06:00     30  Biomass & Other\n",
       "\n",
       "[192 rows x 3 columns]"
      ]
     },
     "execution_count": 57,
     "metadata": {},
     "output_type": "execute_result"
    }
   ],
   "source": [
    "with open('./monthly_df.pickle', 'rb') as token:\n",
    "    monthly_df = pickle.load(token)\n",
    "#daily_df = daily_df[0][1]\n",
    "monthly_df\n"
   ]
  },
  {
   "cell_type": "code",
   "execution_count": 60,
   "metadata": {},
   "outputs": [
    {
     "data": {
      "text/plain": [
       "{'Biomass & Other': datetime.datetime(2022, 10, 13, 0, 39, 20, 683548),\n",
       " 'Coal': datetime.datetime(2022, 10, 13, 0, 39, 20, 683558),\n",
       " 'Dual Fuel': datetime.datetime(2022, 10, 13, 0, 39, 20, 683558),\n",
       " 'Energy Storage': datetime.datetime(2022, 10, 13, 0, 39, 20, 683558),\n",
       " 'Hydro': datetime.datetime(2022, 10, 13, 0, 39, 20, 683558),\n",
       " 'Natural Gas': datetime.datetime(2022, 10, 13, 0, 39, 20, 683559),\n",
       " 'Solar': datetime.datetime(2022, 10, 13, 0, 39, 20, 683559),\n",
       " 'Wind': datetime.datetime(2022, 10, 13, 0, 39, 20, 683559),\n",
       " 'BC': datetime.datetime(2022, 10, 13, 0, 39, 20, 683559),\n",
       " 'Saskatchewan': datetime.datetime(2022, 10, 13, 0, 39, 20, 683559),\n",
       " 'Montana': datetime.datetime(2022, 10, 13, 0, 39, 20, 683560),\n",
       " 'Intertie': datetime.datetime(2022, 10, 13, 0, 39, 20, 683560),\n",
       " 'Pool Price': datetime.datetime(2022, 10, 13, 0, 39, 20, 683560),\n",
       " '3-Day Solar Forecast': datetime.datetime(2022, 10, 13, 0, 39, 20, 683560),\n",
       " '7-Day Wind Forecast': datetime.datetime(2022, 10, 13, 0, 39, 20, 683560)}"
      ]
     },
     "execution_count": 60,
     "metadata": {},
     "output_type": "execute_result"
    }
   ],
   "source": [
    "alert_dates = {'Biomass & Other':datetime.now(),'Coal':datetime.now(),'Dual Fuel':datetime.now(),'Energy Storage':datetime.now(),'Hydro':datetime.now(),\n",
    "                'Natural Gas':datetime.now(),'Solar':datetime.now(),'Wind':datetime.now(),'BC':datetime.now(),'Saskatchewan':datetime.now(),'Montana':datetime.now(),\n",
    "                'Intertie':datetime.now(),'Pool Price':datetime.now(),'3-Day Solar Forecast':datetime.now(),'7-Day Wind Forecast':datetime.now()}\n",
    "with open('./alert_dates.pickle', 'wb') as handle:\n",
    "    pickle.dump(alert_dates, handle, protocol=pickle.HIGHEST_PROTOCOL)\n",
    "alert_dates"
   ]
  },
  {
   "cell_type": "code",
   "execution_count": 14,
   "metadata": {},
   "outputs": [
    {
     "name": "stdout",
     "output_type": "stream",
     "text": [
      "uWRqRKIwXjAWcPo5B4Wz6x_iSPWAu6prPdKWny7PKauiL7yqltm3CTE6vTmluQj1_pzVm5MkXBQSow57DatdjfMtNvJfZ9baGpy362xb9yq5XTLyidxbWv2_BRYqZrvdpnbp0sCd8xd172vCHyxae9IoPqhboEx8PBbzkY-_h155U9ckX3sjIRCOaXk0_ek8WMenLRF8mpMDH8PukPnOvQUWSwVd2wHi8qeB8JZlGC1uTkfPuexsXb4aFVj9_BYKS08wWiWIc6rQT46S1zocQcgYFq2bnYlB998QZdfhYVrBPC5SoWVh_WAoHIVwNsgLy1VEAUZVCX7bPmF73Xo_G2FrXHo\n"
     ]
    }
   ],
   "source": [
    "def release_token(accessToken):\n",
    "    path = '/api/ReleaseToken'\n",
    "    server = 'api.nrgstream.com'\n",
    "    headers = {'Authorization': f'Bearer {accessToken}'}\n",
    "    context = ssl.create_default_context(cafile=certifi.where())\n",
    "    conn = http.client.HTTPSConnection(server,context=context)\n",
    "    conn.request('DELETE', path, None, headers)\n",
    "    res = conn.getresponse()\n",
    "with open('./accessToken.pickle', 'rb') as token:\n",
    "    accessToken = pickle.load(token)\n",
    "print(accessToken)\n",
    "release_token(accessToken)"
   ]
  },
  {
   "cell_type": "code",
   "execution_count": 16,
   "metadata": {},
   "outputs": [
    {
     "data": {
      "text/plain": [
       "datetime.date(2022, 10, 6)"
      ]
     },
     "execution_count": 16,
     "metadata": {},
     "output_type": "execute_result"
    }
   ],
   "source": [
    "datetime.now(tz).date()-timedelta(days=7)"
   ]
  }
 ],
 "metadata": {
  "kernelspec": {
   "display_name": "Python 3.9.12 ('base')",
   "language": "python",
   "name": "python3"
  },
  "language_info": {
   "codemirror_mode": {
    "name": "ipython",
    "version": 3
   },
   "file_extension": ".py",
   "mimetype": "text/x-python",
   "name": "python",
   "nbconvert_exporter": "python",
   "pygments_lexer": "ipython3",
   "version": "3.9.12"
  },
  "orig_nbformat": 4,
  "vscode": {
   "interpreter": {
    "hash": "7b2c7660418be0c1c726d92d797a7ce8f65e49b2683610c7a567c05150d58fed"
   }
  }
 },
 "nbformat": 4,
 "nbformat_minor": 2
}
