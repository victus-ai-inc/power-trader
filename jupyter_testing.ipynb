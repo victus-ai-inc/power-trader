{
 "cells": [
  {
   "cell_type": "code",
   "execution_count": 1,
   "metadata": {},
   "outputs": [],
   "source": [
    "from datetime import datetime, timedelta, date\n",
    "from dateutil.relativedelta import relativedelta\n",
    "import pandas as pd\n",
    "from pandasql import sqldf\n",
    "import streamlit as st\n",
    "import pull_nrg_data\n",
    "import json\n",
    "import http.client\n",
    "import certifi\n",
    "import ssl\n",
    "import os\n",
    "import timeit\n",
    "import pickle\n",
    "import altair as alt\n",
    "import pytz\n",
    "import numpy as np\n",
    "tz = pytz.timezone('America/Edmonton')"
   ]
  },
  {
   "cell_type": "code",
   "execution_count": 11,
   "metadata": {},
   "outputs": [],
   "source": [
    "def release_token(accessToken):\n",
    "    path = '/api/ReleaseToken'\n",
    "    server = 'api.nrgstream.com'\n",
    "    headers = {'Authorization': f'Bearer {accessToken}'}\n",
    "    context = ssl.create_default_context(cafile=certifi.where())\n",
    "    conn = http.client.HTTPSConnection(server,context=context)\n",
    "    conn.request('DELETE', path, None, headers)\n",
    "    res = conn.getresponse()\n",
    "\n",
    "with open('./default_pickle.pickle', 'rb') as handle:\n",
    "    default_pickle = pickle.load(handle)\n",
    "\n",
    "release_token(default_pickle['accessToken'])"
   ]
  },
  {
   "cell_type": "code",
   "execution_count": 12,
   "metadata": {},
   "outputs": [],
   "source": [
    "t = datetime.now(pytz.timezone('America/Edmonton')).date() - timedelta(days=8)\n",
    "t2 = datetime.now(pytz.timezone('America/Edmonton')) - timedelta(days=8)\n",
    "default_pickle = {\n",
    "    'accessToken':'',\n",
    "    'current_data':'',\n",
    "    'daily_outage_dfs':[0]*7,\n",
    "    'monthly_outage_dfs':[0]*7,\n",
    "    'alert_dates':{\n",
    "        'Biomass & Other':t, \n",
    "        'Coal':t,\n",
    "        'Dual Fuel':t,\n",
    "        'Energy Storage':t,\n",
    "        'Hydro':t,\n",
    "        'Natural Gas':t,\n",
    "        'Solar':t,\n",
    "        'Wind':t,\n",
    "        'Intertie':t\n",
    "    }\n",
    "}\n",
    "with open('./default_pickle.pickle', 'wb') as handle:\n",
    "    pickle.dump(default_pickle, handle, protocol=pickle.HIGHEST_PROTOCOL)\n",
    "# Add default current values to dict\n",
    "with open('./current_df.pickle', 'rb') as handle:\n",
    "    current_df = pickle.load(handle)\n",
    "default_pickle['current_data'] = current_df\n",
    "# Add default monthly values to dict\n",
    "with open('./monthly_df.pickle', 'rb') as handle:\n",
    "    monthly = pickle.load(handle)\n",
    "for i in range(7):\n",
    "    default_pickle['monthly_outage_dfs'][i] = (t2,monthly)\n",
    "# Add default daily values to dict\n",
    "with open('./daily_df.pickle', 'rb') as handle:\n",
    "    daily = pickle.load(handle)\n",
    "for i in range(7):\n",
    "    default_pickle['daily_outage_dfs'][i] = (t2,daily)\n",
    "with open('./default_pickle.pickle', 'wb') as handle:\n",
    "    pickle.dump(default_pickle, handle, protocol=pickle.HIGHEST_PROTOCOL)"
   ]
  },
  {
   "cell_type": "code",
   "execution_count": 15,
   "metadata": {},
   "outputs": [
    {
     "data": {
      "text/plain": [
       "dict_keys(['accessToken', 'current_data', 'daily_outage_dfs', 'monthly_outage_dfs', 'alert_dates'])"
      ]
     },
     "execution_count": 15,
     "metadata": {},
     "output_type": "execute_result"
    }
   ],
   "source": [
    "with open('./default_pickle.pickle', 'rb') as handle:\n",
    "    default_pickle = pickle.load(handle)\n",
    "default_pickle.keys()"
   ]
  },
  {
   "cell_type": "code",
   "execution_count": 19,
   "metadata": {},
   "outputs": [
    {
     "data": {
      "text/plain": [
       "{'Biomass & Other': datetime.date(2022, 9, 19),\n",
       " 'Coal': datetime.date(2022, 9, 22),\n",
       " 'Dual Fuel': datetime.date(2022, 9, 4),\n",
       " 'Energy Storage': datetime.date(2022, 9, 4),\n",
       " 'Hydro': datetime.date(2022, 9, 4),\n",
       " 'Natural Gas': datetime.date(2022, 9, 20),\n",
       " 'Solar': datetime.date(2022, 9, 22),\n",
       " 'Wind': datetime.date(2022, 9, 16),\n",
       " 'Intertie': datetime.date(2022, 9, 21)}"
      ]
     },
     "execution_count": 19,
     "metadata": {},
     "output_type": "execute_result"
    }
   ],
   "source": [
    "default_pickle['alert_dates']"
   ]
  },
  {
   "cell_type": "code",
   "execution_count": 20,
   "metadata": {},
   "outputs": [],
   "source": [
    "with open('./alert_dates.pickle', 'wb') as handle:\n",
    "    pickle.dump(default_pickle['alert_dates'], handle, protocol=pickle.HIGHEST_PROTOCOL)"
   ]
  },
  {
   "cell_type": "code",
   "execution_count": 17,
   "metadata": {},
   "outputs": [],
   "source": [
    "with open('./daily_df.pickle', 'wb') as handle:\n",
    "    pickle.dump(default_pickle['daily_outage_dfs'], handle, protocol=pickle.HIGHEST_PROTOCOL)"
   ]
  },
  {
   "cell_type": "code",
   "execution_count": 18,
   "metadata": {},
   "outputs": [
    {
     "data": {
      "text/plain": [
       "[(datetime.datetime(2022, 9, 4, 13, 52, 29, 897614, tzinfo=<DstTzInfo 'America/Edmonton' MDT-1 day, 18:00:00 DST>),\n",
       "                     timeStamp  value  fuelType\n",
       "  0  2022-09-12 00:00:00-06:00    750  Intertie\n",
       "  1  2022-09-13 00:00:00-06:00      0  Intertie\n",
       "  2  2022-09-14 00:00:00-06:00      0  Intertie\n",
       "  3  2022-09-15 00:00:00-06:00      0  Intertie\n",
       "  4  2022-09-16 00:00:00-06:00      0  Intertie\n",
       "  ..                       ...    ...       ...\n",
       "  86 2022-12-07 00:00:00-07:00      0      Wind\n",
       "  87 2022-12-08 00:00:00-07:00      0      Wind\n",
       "  88 2022-12-09 00:00:00-07:00      0      Wind\n",
       "  89 2022-12-10 00:00:00-07:00      0      Wind\n",
       "  90 2022-12-11 00:00:00-07:00      0      Wind\n",
       "  \n",
       "  [819 rows x 3 columns]),\n",
       " (datetime.datetime(2022, 9, 12, 14, 0, 13, 743524, tzinfo=<DstTzInfo 'America/Edmonton' MDT-1 day, 18:00:00 DST>),\n",
       "                      timeStamp  value  fuelType\n",
       "  0   2022-09-12 00:00:00-06:00    750  Intertie\n",
       "  1   2022-09-13 00:00:00-06:00      0  Intertie\n",
       "  2   2022-09-14 00:00:00-06:00      0  Intertie\n",
       "  3   2022-09-15 00:00:00-06:00      0  Intertie\n",
       "  4   2022-09-16 00:00:00-06:00      0  Intertie\n",
       "  ..                        ...    ...       ...\n",
       "  105 2022-12-26 00:00:00-07:00      0      Wind\n",
       "  106 2022-12-27 00:00:00-07:00      0      Wind\n",
       "  107 2022-12-28 00:00:00-07:00      0      Wind\n",
       "  108 2022-12-29 00:00:00-07:00      0      Wind\n",
       "  109 2022-12-30 00:00:00-07:00      0      Wind\n",
       "  \n",
       "  [1233 rows x 3 columns]),\n",
       " (datetime.datetime(2022, 9, 16, 17, 36, 27, 428489, tzinfo=<DstTzInfo 'America/Edmonton' MDT-1 day, 18:00:00 DST>),\n",
       "                     timeStamp  value              fuelType\n",
       "  0  2022-09-16 00:00:00-06:00  449.0              Intertie\n",
       "  1  2022-09-16 01:00:00-06:00    0.0              Intertie\n",
       "  2  2022-09-16 02:00:00-06:00    0.0              Intertie\n",
       "  3  2022-09-16 03:00:00-06:00  257.0              Intertie\n",
       "  4  2022-09-16 04:00:00-06:00  361.0              Intertie\n",
       "  ..                       ...    ...                   ...\n",
       "  69 2022-09-18 21:00:00-06:00    0.0  3-Day Solar Forecast\n",
       "  70 2022-09-18 22:00:00-06:00    0.0  3-Day Solar Forecast\n",
       "  71 2022-09-18 23:00:00-06:00    0.0  3-Day Solar Forecast\n",
       "  72 2022-09-19 00:00:00-06:00    0.0  3-Day Solar Forecast\n",
       "  73 2022-09-19 01:00:00-06:00    0.0  3-Day Solar Forecast\n",
       "  \n",
       "  [28986 rows x 3 columns]),\n",
       " (datetime.datetime(2022, 9, 19, 20, 2, 14, 202745, tzinfo=<DstTzInfo 'America/Edmonton' MDT-1 day, 18:00:00 DST>),\n",
       "                     timeStamp  value              fuelType\n",
       "  0  2022-09-19 00:00:00-06:00  543.0              Intertie\n",
       "  1  2022-09-19 01:00:00-06:00    0.0              Intertie\n",
       "  2  2022-09-19 02:00:00-06:00    0.0              Intertie\n",
       "  3  2022-09-19 03:00:00-06:00    0.0              Intertie\n",
       "  4  2022-09-19 04:00:00-06:00    0.0              Intertie\n",
       "  ..                       ...    ...                   ...\n",
       "  71 2022-09-21 23:00:00-06:00    0.0  3-Day Solar Forecast\n",
       "  72 2022-09-22 00:00:00-06:00    0.0  3-Day Solar Forecast\n",
       "  73 2022-09-22 01:00:00-06:00    0.0  3-Day Solar Forecast\n",
       "  74 2022-09-22 02:00:00-06:00    0.0  3-Day Solar Forecast\n",
       "  75 2022-09-22 03:00:00-06:00    0.0  3-Day Solar Forecast\n",
       "  \n",
       "  [28340 rows x 3 columns]),\n",
       " (datetime.datetime(2022, 9, 20, 16, 24, 24, 900813, tzinfo=<DstTzInfo 'America/Edmonton' MDT-1 day, 18:00:00 DST>),\n",
       "                     timeStamp   value              fuelType\n",
       "  0  2022-09-20 00:00:00-06:00    0.00              Intertie\n",
       "  1  2022-09-20 01:00:00-06:00  544.00              Intertie\n",
       "  2  2022-09-20 02:00:00-06:00  729.00              Intertie\n",
       "  3  2022-09-20 03:00:00-06:00    0.00              Intertie\n",
       "  4  2022-09-20 04:00:00-06:00    0.00              Intertie\n",
       "  ..                       ...     ...                   ...\n",
       "  67 2022-09-22 19:00:00-06:00   17.92  3-Day Solar Forecast\n",
       "  68 2022-09-22 20:00:00-06:00    0.88  3-Day Solar Forecast\n",
       "  69 2022-09-22 21:00:00-06:00    0.00  3-Day Solar Forecast\n",
       "  70 2022-09-22 22:00:00-06:00    0.00  3-Day Solar Forecast\n",
       "  71 2022-09-22 23:00:00-06:00    0.00  3-Day Solar Forecast\n",
       "  \n",
       "  [28120 rows x 3 columns]),\n",
       " (datetime.datetime(2022, 9, 21, 14, 14, 0, 463688, tzinfo=<DstTzInfo 'America/Edmonton' MDT-1 day, 18:00:00 DST>),\n",
       "                     timeStamp   value              fuelType\n",
       "  0  2022-09-21 00:00:00-06:00    0.00              Intertie\n",
       "  1  2022-09-21 01:00:00-06:00    0.00              Intertie\n",
       "  2  2022-09-21 02:00:00-06:00    0.00              Intertie\n",
       "  3  2022-09-21 03:00:00-06:00    0.00              Intertie\n",
       "  4  2022-09-21 04:00:00-06:00    0.00              Intertie\n",
       "  ..                       ...     ...                   ...\n",
       "  65 2022-09-23 17:00:00-06:00  354.52  3-Day Solar Forecast\n",
       "  66 2022-09-23 18:00:00-06:00  220.86  3-Day Solar Forecast\n",
       "  67 2022-09-23 19:00:00-06:00   80.87  3-Day Solar Forecast\n",
       "  68 2022-09-23 20:00:00-06:00    3.48  3-Day Solar Forecast\n",
       "  69 2022-09-23 21:00:00-06:00    0.00  3-Day Solar Forecast\n",
       "  \n",
       "  [27902 rows x 3 columns]),\n",
       " (datetime.datetime(2022, 9, 22, 14, 12, 23, 421055, tzinfo=<DstTzInfo 'America/Edmonton' MDT-1 day, 18:00:00 DST>),\n",
       "                     timeStamp   value              fuelType\n",
       "  0  2022-09-22 00:00:00-06:00    0.00              Intertie\n",
       "  1  2022-09-22 01:00:00-06:00    0.00              Intertie\n",
       "  2  2022-09-22 02:00:00-06:00    0.00              Intertie\n",
       "  3  2022-09-22 03:00:00-06:00    0.00              Intertie\n",
       "  4  2022-09-22 04:00:00-06:00    0.00              Intertie\n",
       "  ..                       ...     ...                   ...\n",
       "  65 2022-09-24 17:00:00-06:00  589.37  3-Day Solar Forecast\n",
       "  66 2022-09-24 18:00:00-06:00  424.67  3-Day Solar Forecast\n",
       "  67 2022-09-24 19:00:00-06:00  181.84  3-Day Solar Forecast\n",
       "  68 2022-09-24 20:00:00-06:00    8.26  3-Day Solar Forecast\n",
       "  69 2022-09-24 21:00:00-06:00    0.00  3-Day Solar Forecast\n",
       "  \n",
       "  [27686 rows x 3 columns])]"
      ]
     },
     "execution_count": 18,
     "metadata": {},
     "output_type": "execute_result"
    }
   ],
   "source": [
    "with open('./daily_df.pickle', 'rb') as monthly:\n",
    "    monthly_df = pickle.load(monthly)\n",
    "monthly_df"
   ]
  }
 ],
 "metadata": {
  "kernelspec": {
   "display_name": "Python 3.8.10 64-bit",
   "language": "python",
   "name": "python3"
  },
  "language_info": {
   "codemirror_mode": {
    "name": "ipython",
    "version": 3
   },
   "file_extension": ".py",
   "mimetype": "text/x-python",
   "name": "python",
   "nbconvert_exporter": "python",
   "pygments_lexer": "ipython3",
   "version": "3.8.10"
  },
  "orig_nbformat": 4,
  "vscode": {
   "interpreter": {
    "hash": "916dbcbb3f70747c44a77c7bcd40155683ae19c65e1c03b4aa3499c5328201f1"
   }
  }
 },
 "nbformat": 4,
 "nbformat_minor": 2
}
