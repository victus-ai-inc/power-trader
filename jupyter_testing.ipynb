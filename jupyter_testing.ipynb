{
 "cells": [
  {
   "cell_type": "markdown",
   "metadata": {},
   "source": [
    "### PLAN\n",
    "1. Load up to Jun 2022 into BigQuery\n",
    "2. Create github action to run BQ insert script nightly\n",
    "3. Set grouped database table (history_df) in BigQuery to refresh nightly after insert\n",
    "4. Make script to pull data history_df from BigQuery data\n",
    "\n",
    "8. For streamlit app append [history_df, current_df, future_df] to make the combo_df\n",
    "    - put history_df into cache using st.experimental_memo so its only called once each time app is opened"
   ]
  },
  {
   "cell_type": "code",
   "execution_count": 64,
   "metadata": {},
   "outputs": [],
   "source": [
    "# Initialize python libs & SQL creads\n",
    "from datetime import datetime, timedelta, date\n",
    "import pandas as pd\n",
    "from pandasql import sqldf\n",
    "import streamlit as st\n",
    "import pull_nrg_data\n",
    "import json\n",
    "import http.client\n",
    "import certifi\n",
    "import ssl\n",
    "import os\n",
    "import timeit\n",
    "import pickle\n",
    "import altair as alt"
   ]
  },
  {
   "cell_type": "markdown",
   "metadata": {},
   "source": []
  },
  {
   "cell_type": "code",
   "execution_count": null,
   "metadata": {},
   "outputs": [],
   "source": [
    "pull_nrg_data.release_token(accessToken)"
   ]
  },
  {
   "cell_type": "code",
   "execution_count": 102,
   "metadata": {},
   "outputs": [
    {
     "name": "stdout",
     "output_type": "stream",
     "text": [
      "token released\n"
     ]
    }
   ],
   "source": [
    "# Release token\n",
    "import certifi\n",
    "import ssl\n",
    "import http.client\n",
    "server = 'api.nrgstream.com'\n",
    "\n",
    "def release_token(accessToken):\n",
    "    path = '/api/ReleaseToken'\n",
    "    headers = {'Authorization': f'Bearer {accessToken}'}\n",
    "    context = ssl.create_default_context(cafile=certifi.where())\n",
    "    conn = http.client.HTTPSConnection(server,context=context)\n",
    "    conn.request('DELETE', path, None, headers)\n",
    "    res = conn.getresponse()\n",
    "    print('token released')\n",
    "\n",
    "with open('./access_token.pickle', 'rb') as handle:\n",
    "        accessToken = pickle.load(handle)\n",
    "release_token(accessToken)"
   ]
  },
  {
   "cell_type": "code",
   "execution_count": 124,
   "metadata": {},
   "outputs": [
    {
     "data": {
      "text/plain": [
       "'7XUv4MgIEjcjmougD3vJWlIRYg3W6AM0pSj-C5K6344AqYoGS5qRnO0P9lr1pwvGf09U-QAj03xGm6FmwlkVN36AKSCXLqUv9vzBMjgQvaW5jXdE1ECCISYg3y9JW8stb6y0wj7RLPxdhqM9Mi8wIt-0U0wyLOKUPAd5KwaZusJJ55LCeTKpVDDst-YykrjA0epepThvEOU3lV3tdkZN1A61koUgie75mVgj-m9DgNLn9SAZzd-uHJOYWJNmGMDxvq2o-d1qB5OvShm8PtSry3_CPuNnLkxjSesw-pTJHxjWt5OhQyrs0ftA5JpQEKPMpPGpBLEqx79CVJByAzrrB7AhGws'"
      ]
     },
     "execution_count": 124,
     "metadata": {},
     "output_type": "execute_result"
    }
   ],
   "source": [
    "\n",
    "with open('./access_token.pickle', 'rb') as handle:\n",
    "        accessToken = pickle.load(handle)\n",
    "accessToken"
   ]
  },
  {
   "cell_type": "code",
   "execution_count": null,
   "metadata": {},
   "outputs": [],
   "source": [
    "# Joining daily to hourly data\n",
    "import pandas as pd\n",
    "\n",
    "intraday = pd.DataFrame(index=pd.date_range('2016-01-01', '2016-01-07', freq='H'),data=[i for i in range(145)], columns=['hourly'])\n",
    "daily = pd.DataFrame(index=pd.date_range('2016-01-01', '2016-01-07', freq='D'), data=[i for i in range(7)], columns=['daily'])\n",
    "df = intraday.join(daily).fillna(method='ffill')\n",
    "intraday, daily, df"
   ]
  },
  {
   "cell_type": "code",
   "execution_count": 97,
   "metadata": {},
   "outputs": [],
   "source": [
    "with open('./intertie.pickle', 'rb') as handle:\n",
    "        intertie = pickle.load(handle)\n",
    "with open('./current_outage_df.pickle', 'rb') as handle:\n",
    "        outages = pickle.load(handle)"
   ]
  },
  {
   "cell_type": "code",
   "execution_count": 38,
   "metadata": {},
   "outputs": [],
   "source": [
    "with open('./alerts.pickle', 'wb') as handle:\n",
    "    pickle.dump(alerts, handle, protocol=pickle.HIGHEST_PROTOCOL)"
   ]
  },
  {
   "cell_type": "code",
   "execution_count": null,
   "metadata": {},
   "outputs": [],
   "source": [
    "a = outages.set_index('timeStamp').groupby('fuelType').resample('H')['value'].ffill().reset_index()\n",
    "b = pd.concat([a,intertie], axis=0)\n",
    "\n",
    "alt.Chart(a).mark_area().encode(\n",
    "    x='timeStamp',\n",
    "    y='value',\n",
    "    color='fuelType'\n",
    ")"
   ]
  },
  {
   "cell_type": "code",
   "execution_count": 98,
   "metadata": {},
   "outputs": [],
   "source": [
    "a = intertie.groupby(pd.Grouper(key='timeStamp',axis=0,freq='D')).min()"
   ]
  },
  {
   "cell_type": "code",
   "execution_count": 94,
   "metadata": {},
   "outputs": [],
   "source": [
    "a = intertie[intertie['timeStamp'].dt.month==9]"
   ]
  }
 ],
 "metadata": {
  "kernelspec": {
   "display_name": "Python 3.9.12 ('base')",
   "language": "python",
   "name": "python3"
  },
  "language_info": {
   "codemirror_mode": {
    "name": "ipython",
    "version": 3
   },
   "file_extension": ".py",
   "mimetype": "text/x-python",
   "name": "python",
   "nbconvert_exporter": "python",
   "pygments_lexer": "ipython3",
   "version": "3.9.12"
  },
  "orig_nbformat": 4,
  "vscode": {
   "interpreter": {
    "hash": "7b2c7660418be0c1c726d92d797a7ce8f65e49b2683610c7a567c05150d58fed"
   }
  }
 },
 "nbformat": 4,
 "nbformat_minor": 2
}
