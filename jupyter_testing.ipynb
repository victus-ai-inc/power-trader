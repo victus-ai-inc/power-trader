{
 "cells": [
  {
   "cell_type": "code",
   "execution_count": 1,
   "metadata": {},
   "outputs": [],
   "source": [
    "from datetime import datetime, timedelta, date\n",
    "from dateutil.relativedelta import relativedelta\n",
    "import pandas as pd\n",
    "from pandasql import sqldf\n",
    "import streamlit as st\n",
    "import pull_nrg_data\n",
    "import json\n",
    "import http.client\n",
    "import certifi\n",
    "import ssl\n",
    "import os\n",
    "import timeit\n",
    "import pickle\n",
    "import altair as alt\n",
    "import pytz\n",
    "import numpy as np\n",
    "tz = pytz.timezone('America/Edmonton')"
   ]
  }
 ],
 "metadata": {
  "kernelspec": {
   "display_name": "Python 3.9.12 ('base')",
   "language": "python",
   "name": "python3"
  },
  "language_info": {
   "codemirror_mode": {
    "name": "ipython",
    "version": 3
   },
   "file_extension": ".py",
   "mimetype": "text/x-python",
   "name": "python",
   "nbconvert_exporter": "python",
   "pygments_lexer": "ipython3",
   "version": "3.9.12"
  },
  "orig_nbformat": 4,
  "vscode": {
   "interpreter": {
    "hash": "7b2c7660418be0c1c726d92d797a7ce8f65e49b2683610c7a567c05150d58fed"
   }
  }
 },
 "nbformat": 4,
 "nbformat_minor": 2
}
