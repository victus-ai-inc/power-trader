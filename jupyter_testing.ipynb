{
 "cells": [
  {
   "cell_type": "code",
   "execution_count": 2,
   "metadata": {},
   "outputs": [],
   "source": [
    "from datetime import datetime, timedelta, date\n",
    "from dateutil.relativedelta import relativedelta\n",
    "import pandas as pd\n",
    "from pandasql import sqldf\n",
    "import streamlit as st\n",
    "import json\n",
    "import pickle\n",
    "import http.client\n",
    "import certifi\n",
    "import ssl\n",
    "import os\n",
    "import altair as alt\n",
    "import pytz\n",
    "import numpy as np\n",
    "tz = pytz.timezone('America/Edmonton')"
   ]
  },
  {
   "cell_type": "code",
   "execution_count": null,
   "metadata": {},
   "outputs": [],
   "source": [
    "with open('./current_df.pickle', 'rb') as token:\n",
    "    current_df = pickle.load(token)\n",
    "current_df = current_df[1]\n",
    "current_df"
   ]
  },
  {
   "cell_type": "code",
   "execution_count": null,
   "metadata": {},
   "outputs": [],
   "source": [
    "#@st.experimental_singleton()\n",
    "import firebase_admin\n",
    "from firebase_admin import credentials\n",
    "from firebase_admin import firestore\n",
    "\n",
    "cred = credentials.Certificate(st.secrets[\"gcp_service_account\"])\n",
    "app = firebase_admin.initialize_app(cred)\n",
    "db = firestore.client()"
   ]
  },
  {
   "cell_type": "code",
   "execution_count": 400,
   "metadata": {},
   "outputs": [
    {
     "data": {
      "text/plain": [
       "dict_keys(['timeStamp', 'value', 'fuelType'])"
      ]
     },
     "execution_count": 400,
     "metadata": {},
     "output_type": "execute_result"
    }
   ],
   "source": [
    "# Set path to Firestore DB\n",
    "currentData_ref = db.collection(u'appData').document('currentData')\n",
    "# Update current_df data in Firestore DB\n",
    "currentData_ref.set(current_df.to_dict('list'))"
   ]
  },
  {
   "cell_type": "code",
   "execution_count": 414,
   "metadata": {},
   "outputs": [
    {
     "data": {
      "text/html": [
       "<div>\n",
       "<style scoped>\n",
       "    .dataframe tbody tr th:only-of-type {\n",
       "        vertical-align: middle;\n",
       "    }\n",
       "\n",
       "    .dataframe tbody tr th {\n",
       "        vertical-align: top;\n",
       "    }\n",
       "\n",
       "    .dataframe thead th {\n",
       "        text-align: right;\n",
       "    }\n",
       "</style>\n",
       "<table border=\"1\" class=\"dataframe\">\n",
       "  <thead>\n",
       "    <tr style=\"text-align: right;\">\n",
       "      <th></th>\n",
       "      <th>timeStamp</th>\n",
       "      <th>fuelType</th>\n",
       "      <th>value</th>\n",
       "    </tr>\n",
       "  </thead>\n",
       "  <tbody>\n",
       "    <tr>\n",
       "      <th>0</th>\n",
       "      <td>2022-10-12 00:00:00-06:00</td>\n",
       "      <td>Coal</td>\n",
       "      <td>814.00</td>\n",
       "    </tr>\n",
       "    <tr>\n",
       "      <th>1</th>\n",
       "      <td>2022-10-12 00:05:00-06:00</td>\n",
       "      <td>Coal</td>\n",
       "      <td>818.00</td>\n",
       "    </tr>\n",
       "    <tr>\n",
       "      <th>2</th>\n",
       "      <td>2022-10-12 00:10:00-06:00</td>\n",
       "      <td>Coal</td>\n",
       "      <td>821.00</td>\n",
       "    </tr>\n",
       "    <tr>\n",
       "      <th>3</th>\n",
       "      <td>2022-10-12 00:15:00-06:00</td>\n",
       "      <td>Coal</td>\n",
       "      <td>817.00</td>\n",
       "    </tr>\n",
       "    <tr>\n",
       "      <th>4</th>\n",
       "      <td>2022-10-12 00:20:00-06:00</td>\n",
       "      <td>Coal</td>\n",
       "      <td>818.00</td>\n",
       "    </tr>\n",
       "    <tr>\n",
       "      <th>...</th>\n",
       "      <td>...</td>\n",
       "      <td>...</td>\n",
       "      <td>...</td>\n",
       "    </tr>\n",
       "    <tr>\n",
       "      <th>2287</th>\n",
       "      <td>2022-10-12 15:30:00-06:00</td>\n",
       "      <td>Pool Price</td>\n",
       "      <td>60.00</td>\n",
       "    </tr>\n",
       "    <tr>\n",
       "      <th>2288</th>\n",
       "      <td>2022-10-12 15:35:00-06:00</td>\n",
       "      <td>Pool Price</td>\n",
       "      <td>60.00</td>\n",
       "    </tr>\n",
       "    <tr>\n",
       "      <th>2289</th>\n",
       "      <td>2022-10-12 15:40:00-06:00</td>\n",
       "      <td>Pool Price</td>\n",
       "      <td>60.00</td>\n",
       "    </tr>\n",
       "    <tr>\n",
       "      <th>2290</th>\n",
       "      <td>2022-10-12 15:45:00-06:00</td>\n",
       "      <td>Pool Price</td>\n",
       "      <td>60.33</td>\n",
       "    </tr>\n",
       "    <tr>\n",
       "      <th>2291</th>\n",
       "      <td>2022-10-12 15:50:00-06:00</td>\n",
       "      <td>Pool Price</td>\n",
       "      <td>60.33</td>\n",
       "    </tr>\n",
       "  </tbody>\n",
       "</table>\n",
       "<p>2292 rows × 3 columns</p>\n",
       "</div>"
      ],
      "text/plain": [
       "                     timeStamp    fuelType   value\n",
       "0    2022-10-12 00:00:00-06:00        Coal  814.00\n",
       "1    2022-10-12 00:05:00-06:00        Coal  818.00\n",
       "2    2022-10-12 00:10:00-06:00        Coal  821.00\n",
       "3    2022-10-12 00:15:00-06:00        Coal  817.00\n",
       "4    2022-10-12 00:20:00-06:00        Coal  818.00\n",
       "...                        ...         ...     ...\n",
       "2287 2022-10-12 15:30:00-06:00  Pool Price   60.00\n",
       "2288 2022-10-12 15:35:00-06:00  Pool Price   60.00\n",
       "2289 2022-10-12 15:40:00-06:00  Pool Price   60.00\n",
       "2290 2022-10-12 15:45:00-06:00  Pool Price   60.33\n",
       "2291 2022-10-12 15:50:00-06:00  Pool Price   60.33\n",
       "\n",
       "[2292 rows x 3 columns]"
      ]
     },
     "execution_count": 414,
     "metadata": {},
     "output_type": "execute_result"
    }
   ],
   "source": [
    "# Set path to Firestore DB\n",
    "currentData_ref = db.collection(u'appData').document('currentData')\n",
    "# Read current_df from Firestore\n",
    "current_df = pd.DataFrame.from_dict(currentData_ref.get().to_dict())\n",
    "current_df['timeStamp'] = current_df['timeStamp'].dt.tz_convert('America/Edmonton') \n",
    "current_df"
   ]
  },
  {
   "cell_type": "code",
   "execution_count": 57,
   "metadata": {},
   "outputs": [
    {
     "data": {
      "text/html": [
       "<div>\n",
       "<style scoped>\n",
       "    .dataframe tbody tr th:only-of-type {\n",
       "        vertical-align: middle;\n",
       "    }\n",
       "\n",
       "    .dataframe tbody tr th {\n",
       "        vertical-align: top;\n",
       "    }\n",
       "\n",
       "    .dataframe thead th {\n",
       "        text-align: right;\n",
       "    }\n",
       "</style>\n",
       "<table border=\"1\" class=\"dataframe\">\n",
       "  <thead>\n",
       "    <tr style=\"text-align: right;\">\n",
       "      <th></th>\n",
       "      <th>timeStamp</th>\n",
       "      <th>value</th>\n",
       "      <th>fuelType</th>\n",
       "    </tr>\n",
       "  </thead>\n",
       "  <tbody>\n",
       "    <tr>\n",
       "      <th>10</th>\n",
       "      <td>2022-11-01 00:00:00-06:00</td>\n",
       "      <td>50</td>\n",
       "      <td>Coal</td>\n",
       "    </tr>\n",
       "    <tr>\n",
       "      <th>11</th>\n",
       "      <td>2022-12-01 00:00:00-07:00</td>\n",
       "      <td>0</td>\n",
       "      <td>Coal</td>\n",
       "    </tr>\n",
       "    <tr>\n",
       "      <th>10</th>\n",
       "      <td>2022-11-01 00:00:00-06:00</td>\n",
       "      <td>1080</td>\n",
       "      <td>Natural Gas</td>\n",
       "    </tr>\n",
       "    <tr>\n",
       "      <th>11</th>\n",
       "      <td>2022-12-01 00:00:00-07:00</td>\n",
       "      <td>780</td>\n",
       "      <td>Natural Gas</td>\n",
       "    </tr>\n",
       "    <tr>\n",
       "      <th>10</th>\n",
       "      <td>2022-11-01 00:00:00-06:00</td>\n",
       "      <td>0</td>\n",
       "      <td>Dual Fuel</td>\n",
       "    </tr>\n",
       "    <tr>\n",
       "      <th>...</th>\n",
       "      <td>...</td>\n",
       "      <td>...</td>\n",
       "      <td>...</td>\n",
       "    </tr>\n",
       "    <tr>\n",
       "      <th>5</th>\n",
       "      <td>2024-06-01 00:00:00-06:00</td>\n",
       "      <td>30</td>\n",
       "      <td>Biomass &amp; Other</td>\n",
       "    </tr>\n",
       "    <tr>\n",
       "      <th>6</th>\n",
       "      <td>2024-07-01 00:00:00-06:00</td>\n",
       "      <td>30</td>\n",
       "      <td>Biomass &amp; Other</td>\n",
       "    </tr>\n",
       "    <tr>\n",
       "      <th>7</th>\n",
       "      <td>2024-08-01 00:00:00-06:00</td>\n",
       "      <td>30</td>\n",
       "      <td>Biomass &amp; Other</td>\n",
       "    </tr>\n",
       "    <tr>\n",
       "      <th>8</th>\n",
       "      <td>2024-09-01 00:00:00-06:00</td>\n",
       "      <td>30</td>\n",
       "      <td>Biomass &amp; Other</td>\n",
       "    </tr>\n",
       "    <tr>\n",
       "      <th>9</th>\n",
       "      <td>2024-10-01 00:00:00-06:00</td>\n",
       "      <td>30</td>\n",
       "      <td>Biomass &amp; Other</td>\n",
       "    </tr>\n",
       "  </tbody>\n",
       "</table>\n",
       "<p>192 rows × 3 columns</p>\n",
       "</div>"
      ],
      "text/plain": [
       "                   timeStamp  value         fuelType\n",
       "10 2022-11-01 00:00:00-06:00     50             Coal\n",
       "11 2022-12-01 00:00:00-07:00      0             Coal\n",
       "10 2022-11-01 00:00:00-06:00   1080      Natural Gas\n",
       "11 2022-12-01 00:00:00-07:00    780      Natural Gas\n",
       "10 2022-11-01 00:00:00-06:00      0        Dual Fuel\n",
       "..                       ...    ...              ...\n",
       "5  2024-06-01 00:00:00-06:00     30  Biomass & Other\n",
       "6  2024-07-01 00:00:00-06:00     30  Biomass & Other\n",
       "7  2024-08-01 00:00:00-06:00     30  Biomass & Other\n",
       "8  2024-09-01 00:00:00-06:00     30  Biomass & Other\n",
       "9  2024-10-01 00:00:00-06:00     30  Biomass & Other\n",
       "\n",
       "[192 rows x 3 columns]"
      ]
     },
     "execution_count": 57,
     "metadata": {},
     "output_type": "execute_result"
    }
   ],
   "source": [
    "with open('./monthly_df.pickle', 'rb') as token:\n",
    "    monthly_df = pickle.load(token)\n",
    "#daily_df = daily_df[0][1]\n",
    "monthly_df\n"
   ]
  },
  {
   "cell_type": "code",
   "execution_count": 60,
   "metadata": {},
   "outputs": [
    {
     "data": {
      "text/plain": [
       "{'Biomass & Other': datetime.datetime(2022, 10, 13, 0, 39, 20, 683548),\n",
       " 'Coal': datetime.datetime(2022, 10, 13, 0, 39, 20, 683558),\n",
       " 'Dual Fuel': datetime.datetime(2022, 10, 13, 0, 39, 20, 683558),\n",
       " 'Energy Storage': datetime.datetime(2022, 10, 13, 0, 39, 20, 683558),\n",
       " 'Hydro': datetime.datetime(2022, 10, 13, 0, 39, 20, 683558),\n",
       " 'Natural Gas': datetime.datetime(2022, 10, 13, 0, 39, 20, 683559),\n",
       " 'Solar': datetime.datetime(2022, 10, 13, 0, 39, 20, 683559),\n",
       " 'Wind': datetime.datetime(2022, 10, 13, 0, 39, 20, 683559),\n",
       " 'BC': datetime.datetime(2022, 10, 13, 0, 39, 20, 683559),\n",
       " 'Saskatchewan': datetime.datetime(2022, 10, 13, 0, 39, 20, 683559),\n",
       " 'Montana': datetime.datetime(2022, 10, 13, 0, 39, 20, 683560),\n",
       " 'Intertie': datetime.datetime(2022, 10, 13, 0, 39, 20, 683560),\n",
       " 'Pool Price': datetime.datetime(2022, 10, 13, 0, 39, 20, 683560),\n",
       " '3-Day Solar Forecast': datetime.datetime(2022, 10, 13, 0, 39, 20, 683560),\n",
       " '7-Day Wind Forecast': datetime.datetime(2022, 10, 13, 0, 39, 20, 683560)}"
      ]
     },
     "execution_count": 60,
     "metadata": {},
     "output_type": "execute_result"
    }
   ],
   "source": [
    "alert_dates = {'Biomass & Other':datetime.now(),'Coal':datetime.now(),'Dual Fuel':datetime.now(),'Energy Storage':datetime.now(),'Hydro':datetime.now(),\n",
    "                'Natural Gas':datetime.now(),'Solar':datetime.now(),'Wind':datetime.now(),'BC':datetime.now(),'Saskatchewan':datetime.now(),'Montana':datetime.now(),\n",
    "                'Intertie':datetime.now(),'Pool Price':datetime.now(),'3-Day Solar Forecast':datetime.now(),'7-Day Wind Forecast':datetime.now()}\n",
    "with open('./alert_dates.pickle', 'wb') as handle:\n",
    "    pickle.dump(alert_dates, handle, protocol=pickle.HIGHEST_PROTOCOL)\n",
    "alert_dates"
   ]
  },
  {
   "cell_type": "code",
   "execution_count": 70,
   "metadata": {},
   "outputs": [
    {
     "name": "stdout",
     "output_type": "stream",
     "text": [
      "uBgaM-MWKWeA0A9E4c7quPB4zckx1UKFSvK40lRpwHEqwf0iJIB-IGTrpyWkXv670Tc6pNUEUiloR2OT_ijYkFAFvHk-PEqg334CTT4fAcZwzBz6Vfik810j3fJd5loYR9QBQeNE5W5ENaUQjc0eJjcVF9G0F3ljrNFd8eDwdOMv-IKz6kk0JTodnRwSyOCj0EgWBgM_iutCTPDcpJPGmuo3vUUsvOc2St5TmYABFprjSH-V0KVkMMEhwuwl9TupKfO_-q2xSXNY9VZCUCbdqKsM2Rly7APSlG5BswSrGXxVWEbhEr-mZDFXh6wTSUMzXzrf2aKQLtfuDKes-lXdnvBbnkI\n"
     ]
    }
   ],
   "source": [
    "def release_token(accessToken):\n",
    "    path = '/api/ReleaseToken'\n",
    "    server = 'api.nrgstream.com'\n",
    "    headers = {'Authorization': f'Bearer {accessToken}'}\n",
    "    context = ssl.create_default_context(cafile=certifi.where())\n",
    "    conn = http.client.HTTPSConnection(server,context=context)\n",
    "    conn.request('DELETE', path, None, headers)\n",
    "    res = conn.getresponse()\n",
    "with open('./accessToken.pickle', 'rb') as token:\n",
    "    accessToken = pickle.load(token)\n",
    "print(accessToken)\n",
    "release_token(accessToken)"
   ]
  }
 ],
 "metadata": {
  "kernelspec": {
   "display_name": "Python 3.9.12 ('base')",
   "language": "python",
   "name": "python3"
  },
  "language_info": {
   "codemirror_mode": {
    "name": "ipython",
    "version": 3
   },
   "file_extension": ".py",
   "mimetype": "text/x-python",
   "name": "python",
   "nbconvert_exporter": "python",
   "pygments_lexer": "ipython3",
   "version": "3.9.12"
  },
  "orig_nbformat": 4,
  "vscode": {
   "interpreter": {
    "hash": "7b2c7660418be0c1c726d92d797a7ce8f65e49b2683610c7a567c05150d58fed"
   }
  }
 },
 "nbformat": 4,
 "nbformat_minor": 2
}
