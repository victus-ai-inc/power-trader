{
 "cells": [
  {
   "cell_type": "markdown",
   "metadata": {},
   "source": [
    "### PLAN\n",
    "1. Load up to Jun 2022 into BigQuery\n",
    "2. Create github action to run BQ insert script nightly\n",
    "3. Set grouped database table (history_df) in BigQuery to refresh nightly after insert\n",
    "4. Make script to pull data history_df from BigQuery data\n",
    "\n",
    "8. For streamlit app append [history_df, current_df, future_df] to make the combo_df\n",
    "    - put history_df into cache using st.experimental_memo so its only called once each time app is opened"
   ]
  },
  {
   "cell_type": "code",
   "execution_count": 130,
   "metadata": {},
   "outputs": [],
   "source": [
    "# Initialize python libs & SQL creads\n",
    "from datetime import datetime, timedelta, date\n",
    "from dateutil.relativedelta import relativedelta\n",
    "import pandas as pd\n",
    "from pandasql import sqldf\n",
    "import streamlit as st\n",
    "import pull_nrg_data\n",
    "import json\n",
    "import http.client\n",
    "import certifi\n",
    "import ssl\n",
    "import os\n",
    "import timeit\n",
    "import pickle\n",
    "import altair as alt"
   ]
  },
  {
   "cell_type": "markdown",
   "metadata": {},
   "source": []
  },
  {
   "cell_type": "code",
   "execution_count": null,
   "metadata": {},
   "outputs": [],
   "source": [
    "pull_nrg_data.release_token(accessToken)"
   ]
  },
  {
   "cell_type": "code",
   "execution_count": 159,
   "metadata": {},
   "outputs": [
    {
     "name": "stdout",
     "output_type": "stream",
     "text": [
      "token released\n"
     ]
    }
   ],
   "source": [
    "# Release token\n",
    "import certifi\n",
    "import ssl\n",
    "import http.client\n",
    "server = 'api.nrgstream.com'\n",
    "\n",
    "def release_token(accessToken):\n",
    "    path = '/api/ReleaseToken'\n",
    "    headers = {'Authorization': f'Bearer {accessToken}'}\n",
    "    context = ssl.create_default_context(cafile=certifi.where())\n",
    "    conn = http.client.HTTPSConnection(server,context=context)\n",
    "    conn.request('DELETE', path, None, headers)\n",
    "    res = conn.getresponse()\n",
    "    print('token released')\n",
    "\n",
    "with open('./access_token.pickle', 'rb') as handle:\n",
    "        accessToken = pickle.load(handle)\n",
    "release_token(accessToken)"
   ]
  },
  {
   "cell_type": "code",
   "execution_count": 124,
   "metadata": {},
   "outputs": [
    {
     "data": {
      "text/plain": [
       "'7XUv4MgIEjcjmougD3vJWlIRYg3W6AM0pSj-C5K6344AqYoGS5qRnO0P9lr1pwvGf09U-QAj03xGm6FmwlkVN36AKSCXLqUv9vzBMjgQvaW5jXdE1ECCISYg3y9JW8stb6y0wj7RLPxdhqM9Mi8wIt-0U0wyLOKUPAd5KwaZusJJ55LCeTKpVDDst-YykrjA0epepThvEOU3lV3tdkZN1A61koUgie75mVgj-m9DgNLn9SAZzd-uHJOYWJNmGMDxvq2o-d1qB5OvShm8PtSry3_CPuNnLkxjSesw-pTJHxjWt5OhQyrs0ftA5JpQEKPMpPGpBLEqx79CVJByAzrrB7AhGws'"
      ]
     },
     "execution_count": 124,
     "metadata": {},
     "output_type": "execute_result"
    }
   ],
   "source": [
    "\n",
    "with open('./access_token.pickle', 'rb') as handle:\n",
    "        accessToken = pickle.load(handle)\n",
    "accessToken"
   ]
  },
  {
   "cell_type": "code",
   "execution_count": null,
   "metadata": {},
   "outputs": [],
   "source": [
    "# Joining daily to hourly data\n",
    "import pandas as pd\n",
    "\n",
    "intraday = pd.DataFrame(index=pd.date_range('2016-01-01', '2016-01-07', freq='H'),data=[i for i in range(145)], columns=['hourly'])\n",
    "daily = pd.DataFrame(index=pd.date_range('2016-01-01', '2016-01-07', freq='D'), data=[i for i in range(7)], columns=['daily'])\n",
    "df = intraday.join(daily).fillna(method='ffill')\n",
    "intraday, daily, df"
   ]
  },
  {
   "cell_type": "code",
   "execution_count": 97,
   "metadata": {},
   "outputs": [],
   "source": [
    "with open('./intertie.pickle', 'rb') as handle:\n",
    "        intertie = pickle.load(handle)\n",
    "with open('./current_outage_df.pickle', 'rb') as handle:\n",
    "        outages = pickle.load(handle)"
   ]
  },
  {
   "cell_type": "code",
   "execution_count": 38,
   "metadata": {},
   "outputs": [],
   "source": [
    "with open('./alerts.pickle', 'wb') as handle:\n",
    "    pickle.dump(alerts, handle, protocol=pickle.HIGHEST_PROTOCOL)"
   ]
  },
  {
   "cell_type": "code",
   "execution_count": 155,
   "metadata": {},
   "outputs": [
    {
     "data": {
      "text/html": [
       "<div>\n",
       "<style scoped>\n",
       "    .dataframe tbody tr th:only-of-type {\n",
       "        vertical-align: middle;\n",
       "    }\n",
       "\n",
       "    .dataframe tbody tr th {\n",
       "        vertical-align: top;\n",
       "    }\n",
       "\n",
       "    .dataframe thead th {\n",
       "        text-align: right;\n",
       "    }\n",
       "</style>\n",
       "<table border=\"1\" class=\"dataframe\">\n",
       "  <thead>\n",
       "    <tr style=\"text-align: right;\">\n",
       "      <th></th>\n",
       "      <th>fuelType</th>\n",
       "      <th>timeStamp</th>\n",
       "      <th>value</th>\n",
       "    </tr>\n",
       "  </thead>\n",
       "  <tbody>\n",
       "    <tr>\n",
       "      <th>0</th>\n",
       "      <td>Biomass &amp; Other</td>\n",
       "      <td>2022-01-01 00:00:00</td>\n",
       "      <td>50</td>\n",
       "    </tr>\n",
       "    <tr>\n",
       "      <th>1</th>\n",
       "      <td>Biomass &amp; Other</td>\n",
       "      <td>2022-01-01 01:00:00</td>\n",
       "      <td>50</td>\n",
       "    </tr>\n",
       "    <tr>\n",
       "      <th>2</th>\n",
       "      <td>Biomass &amp; Other</td>\n",
       "      <td>2022-01-01 02:00:00</td>\n",
       "      <td>50</td>\n",
       "    </tr>\n",
       "    <tr>\n",
       "      <th>3</th>\n",
       "      <td>Biomass &amp; Other</td>\n",
       "      <td>2022-01-01 03:00:00</td>\n",
       "      <td>50</td>\n",
       "    </tr>\n",
       "    <tr>\n",
       "      <th>4</th>\n",
       "      <td>Biomass &amp; Other</td>\n",
       "      <td>2022-01-01 04:00:00</td>\n",
       "      <td>50</td>\n",
       "    </tr>\n",
       "    <tr>\n",
       "      <th>...</th>\n",
       "      <td>...</td>\n",
       "      <td>...</td>\n",
       "      <td>...</td>\n",
       "    </tr>\n",
       "    <tr>\n",
       "      <th>181059</th>\n",
       "      <td>Wind</td>\n",
       "      <td>2024-07-31 20:00:00</td>\n",
       "      <td>10</td>\n",
       "    </tr>\n",
       "    <tr>\n",
       "      <th>181060</th>\n",
       "      <td>Wind</td>\n",
       "      <td>2024-07-31 21:00:00</td>\n",
       "      <td>10</td>\n",
       "    </tr>\n",
       "    <tr>\n",
       "      <th>181061</th>\n",
       "      <td>Wind</td>\n",
       "      <td>2024-07-31 22:00:00</td>\n",
       "      <td>10</td>\n",
       "    </tr>\n",
       "    <tr>\n",
       "      <th>181062</th>\n",
       "      <td>Wind</td>\n",
       "      <td>2024-07-31 23:00:00</td>\n",
       "      <td>10</td>\n",
       "    </tr>\n",
       "    <tr>\n",
       "      <th>181063</th>\n",
       "      <td>Wind</td>\n",
       "      <td>2024-08-01 00:00:00</td>\n",
       "      <td>0</td>\n",
       "    </tr>\n",
       "  </tbody>\n",
       "</table>\n",
       "<p>181064 rows × 3 columns</p>\n",
       "</div>"
      ],
      "text/plain": [
       "               fuelType           timeStamp  value\n",
       "0       Biomass & Other 2022-01-01 00:00:00     50\n",
       "1       Biomass & Other 2022-01-01 01:00:00     50\n",
       "2       Biomass & Other 2022-01-01 02:00:00     50\n",
       "3       Biomass & Other 2022-01-01 03:00:00     50\n",
       "4       Biomass & Other 2022-01-01 04:00:00     50\n",
       "...                 ...                 ...    ...\n",
       "181059             Wind 2024-07-31 20:00:00     10\n",
       "181060             Wind 2024-07-31 21:00:00     10\n",
       "181061             Wind 2024-07-31 22:00:00     10\n",
       "181062             Wind 2024-07-31 23:00:00     10\n",
       "181063             Wind 2024-08-01 00:00:00      0\n",
       "\n",
       "[181064 rows x 3 columns]"
      ]
     },
     "execution_count": 155,
     "metadata": {},
     "output_type": "execute_result"
    }
   ],
   "source": [
    "a = outages.set_index('timeStamp').groupby('fuelType').resample('H')['value'].ffill().reset_index()\n",
    "b = pd.concat([a,intertie], axis=0)\n",
    "\n",
    "a"
   ]
  },
  {
   "cell_type": "code",
   "execution_count": 126,
   "metadata": {},
   "outputs": [
    {
     "data": {
      "text/html": [
       "<div>\n",
       "<style scoped>\n",
       "    .dataframe tbody tr th:only-of-type {\n",
       "        vertical-align: middle;\n",
       "    }\n",
       "\n",
       "    .dataframe tbody tr th {\n",
       "        vertical-align: top;\n",
       "    }\n",
       "\n",
       "    .dataframe thead th {\n",
       "        text-align: right;\n",
       "    }\n",
       "</style>\n",
       "<table border=\"1\" class=\"dataframe\">\n",
       "  <thead>\n",
       "    <tr style=\"text-align: right;\">\n",
       "      <th></th>\n",
       "      <th>value</th>\n",
       "      <th>fuelType</th>\n",
       "    </tr>\n",
       "    <tr>\n",
       "      <th>timeStamp</th>\n",
       "      <th></th>\n",
       "      <th></th>\n",
       "    </tr>\n",
       "  </thead>\n",
       "  <tbody>\n",
       "    <tr>\n",
       "      <th>2022-01-01</th>\n",
       "      <td>750</td>\n",
       "      <td>Intertie</td>\n",
       "    </tr>\n",
       "    <tr>\n",
       "      <th>2022-01-02</th>\n",
       "      <td>750</td>\n",
       "      <td>Intertie</td>\n",
       "    </tr>\n",
       "    <tr>\n",
       "      <th>2022-01-03</th>\n",
       "      <td>416</td>\n",
       "      <td>Intertie</td>\n",
       "    </tr>\n",
       "    <tr>\n",
       "      <th>2022-01-04</th>\n",
       "      <td>485</td>\n",
       "      <td>Intertie</td>\n",
       "    </tr>\n",
       "    <tr>\n",
       "      <th>2022-01-05</th>\n",
       "      <td>347</td>\n",
       "      <td>Intertie</td>\n",
       "    </tr>\n",
       "    <tr>\n",
       "      <th>...</th>\n",
       "      <td>...</td>\n",
       "      <td>...</td>\n",
       "    </tr>\n",
       "    <tr>\n",
       "      <th>2023-08-17</th>\n",
       "      <td>750</td>\n",
       "      <td>Intertie</td>\n",
       "    </tr>\n",
       "    <tr>\n",
       "      <th>2023-08-18</th>\n",
       "      <td>750</td>\n",
       "      <td>Intertie</td>\n",
       "    </tr>\n",
       "    <tr>\n",
       "      <th>2023-08-19</th>\n",
       "      <td>750</td>\n",
       "      <td>Intertie</td>\n",
       "    </tr>\n",
       "    <tr>\n",
       "      <th>2023-08-20</th>\n",
       "      <td>750</td>\n",
       "      <td>Intertie</td>\n",
       "    </tr>\n",
       "    <tr>\n",
       "      <th>2023-08-21</th>\n",
       "      <td>750</td>\n",
       "      <td>Intertie</td>\n",
       "    </tr>\n",
       "  </tbody>\n",
       "</table>\n",
       "<p>598 rows × 2 columns</p>\n",
       "</div>"
      ],
      "text/plain": [
       "            value  fuelType\n",
       "timeStamp                  \n",
       "2022-01-01    750  Intertie\n",
       "2022-01-02    750  Intertie\n",
       "2022-01-03    416  Intertie\n",
       "2022-01-04    485  Intertie\n",
       "2022-01-05    347  Intertie\n",
       "...           ...       ...\n",
       "2023-08-17    750  Intertie\n",
       "2023-08-18    750  Intertie\n",
       "2023-08-19    750  Intertie\n",
       "2023-08-20    750  Intertie\n",
       "2023-08-21    750  Intertie\n",
       "\n",
       "[598 rows x 2 columns]"
      ]
     },
     "execution_count": 126,
     "metadata": {},
     "output_type": "execute_result"
    }
   ],
   "source": [
    "a = intertie.groupby(pd.Grouper(key='timeStamp',axis=0,freq='D')).min()\n",
    "a"
   ]
  },
  {
   "cell_type": "code",
   "execution_count": 153,
   "metadata": {},
   "outputs": [
    {
     "data": {
      "text/plain": [
       "datetime.datetime(2022, 12, 31, 13, 42, 7, 702777)"
      ]
     },
     "execution_count": 153,
     "metadata": {},
     "output_type": "execute_result"
    }
   ],
   "source": []
  }
 ],
 "metadata": {
  "kernelspec": {
   "display_name": "Python 3.9.12 ('base')",
   "language": "python",
   "name": "python3"
  },
  "language_info": {
   "codemirror_mode": {
    "name": "ipython",
    "version": 3
   },
   "file_extension": ".py",
   "mimetype": "text/x-python",
   "name": "python",
   "nbconvert_exporter": "python",
   "pygments_lexer": "ipython3",
   "version": "3.9.12"
  },
  "orig_nbformat": 4,
  "vscode": {
   "interpreter": {
    "hash": "7b2c7660418be0c1c726d92d797a7ce8f65e49b2683610c7a567c05150d58fed"
   }
  }
 },
 "nbformat": 4,
 "nbformat_minor": 2
}
