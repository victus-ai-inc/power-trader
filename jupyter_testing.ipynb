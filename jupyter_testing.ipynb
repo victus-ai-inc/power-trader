{
 "cells": [
  {
   "cell_type": "code",
   "execution_count": 2,
   "metadata": {},
   "outputs": [],
   "source": [
    "# Initialize python libs & SQL creads\n",
    "from datetime import datetime, timedelta, date\n",
    "from dateutil.relativedelta import relativedelta\n",
    "import pandas as pd\n",
    "from pandasql import sqldf\n",
    "import streamlit as st\n",
    "import pull_nrg_data\n",
    "import json\n",
    "import http.client\n",
    "import certifi\n",
    "import ssl\n",
    "import os\n",
    "import timeit\n",
    "import pickle\n",
    "import altair as alt\n",
    "import pytz\n",
    "import numpy as np"
   ]
  },
  {
   "cell_type": "code",
   "execution_count": 9,
   "metadata": {},
   "outputs": [],
   "source": [
    "def release_token(accessToken):\n",
    "    path = '/api/ReleaseToken'\n",
    "    server = 'api.nrgstream.com'\n",
    "    headers = {'Authorization': f'Bearer {accessToken}'}\n",
    "    context = ssl.create_default_context(cafile=certifi.where())\n",
    "    conn = http.client.HTTPSConnection(server,context=context)\n",
    "    conn.request('DELETE', path, None, headers)\n",
    "    res = conn.getresponse()\n",
    "\n",
    "with open('./default_pickle.pickle', 'rb') as handle:\n",
    "    default_pickle = pickle.load(handle)\n",
    "\n",
    "release_token(default_pickle['accessToken'])"
   ]
  },
  {
   "cell_type": "code",
   "execution_count": 12,
   "metadata": {},
   "outputs": [],
   "source": [
    "t = datetime.now(pytz.timezone('America/Edmonton')).date() - timedelta(days=8)\n",
    "t2 = datetime.now(pytz.timezone('America/Edmonton')) - timedelta(days=8)\n",
    "default_pickle = {\n",
    "    'accessToken':'',\n",
    "    'current_data':'',\n",
    "    'daily_outage_dfs':[0]*7,\n",
    "    'monthly_outage_dfs':[0]*7,\n",
    "    'alert_dates':{\n",
    "        'Biomass & Other':t, \n",
    "        'Coal':t,\n",
    "        'Dual Fuel':t,\n",
    "        'Energy Storage':t,\n",
    "        'Hydro':t,\n",
    "        'Natural Gas':t,\n",
    "        'Solar':t,\n",
    "        'Wind':t,\n",
    "        'Intertie':t\n",
    "    }\n",
    "}\n",
    "with open('./default_pickle.pickle', 'wb') as handle:\n",
    "    pickle.dump(default_pickle, handle, protocol=pickle.HIGHEST_PROTOCOL)\n",
    "# Add default current values to dict\n",
    "with open('./current_df.pickle', 'rb') as handle:\n",
    "    current_df = pickle.load(handle)\n",
    "default_pickle['current_data'] = current_df\n",
    "# Add default monthly values to dict\n",
    "with open('./monthly_df.pickle', 'rb') as handle:\n",
    "    monthly = pickle.load(handle)\n",
    "for i in range(7):\n",
    "    default_pickle['monthly_outage_dfs'][i] = (t2,monthly)\n",
    "# Add default daily values to dict\n",
    "with open('./daily_df.pickle', 'rb') as handle:\n",
    "    daily = pickle.load(handle)\n",
    "for i in range(7):\n",
    "    default_pickle['daily_outage_dfs'][i] = (t2,daily)\n",
    "with open('./default_pickle.pickle', 'wb') as handle:\n",
    "    pickle.dump(default_pickle, handle, protocol=pickle.HIGHEST_PROTOCOL)"
   ]
  },
  {
   "cell_type": "code",
   "execution_count": 3,
   "metadata": {},
   "outputs": [
    {
     "data": {
      "text/plain": [
       "(datetime.datetime(2022, 9, 14, 14, 39, 14, 236704, tzinfo=<DstTzInfo 'America/Edmonton' MDT-1 day, 18:00:00 DST>),\n",
       "                    timeStamp   value              fuelType\n",
       " 0  2022-09-14 00:00:00-06:00  441.00              Intertie\n",
       " 1  2022-09-14 01:00:00-06:00  472.00              Intertie\n",
       " 2  2022-09-14 02:00:00-06:00  472.00              Intertie\n",
       " 3  2022-09-14 03:00:00-06:00  472.00              Intertie\n",
       " 4  2022-09-14 04:00:00-06:00  472.00              Intertie\n",
       " ..                       ...     ...                   ...\n",
       " 66 2022-09-16 18:00:00-06:00  419.54  3-Day Solar Forecast\n",
       " 67 2022-09-16 19:00:00-06:00  228.34  3-Day Solar Forecast\n",
       " 68 2022-09-16 20:00:00-06:00   26.62  3-Day Solar Forecast\n",
       " 69 2022-09-16 21:00:00-06:00    0.00  3-Day Solar Forecast\n",
       " 70 2022-09-16 22:00:00-06:00    0.00  3-Day Solar Forecast\n",
       " \n",
       " [9527 rows x 3 columns])"
      ]
     },
     "execution_count": 3,
     "metadata": {},
     "output_type": "execute_result"
    }
   ],
   "source": [
    "with open('./default_pickle.pickle', 'rb') as handle:\n",
    "    default_pickle = pickle.load(handle)\n",
    "default_pickle['daily_outage_dfs'][6]"
   ]
  },
  {
   "cell_type": "code",
   "execution_count": 39,
   "metadata": {},
   "outputs": [
    {
     "data": {
      "text/html": [
       "<div>\n",
       "<style scoped>\n",
       "    .dataframe tbody tr th:only-of-type {\n",
       "        vertical-align: middle;\n",
       "    }\n",
       "\n",
       "    .dataframe tbody tr th {\n",
       "        vertical-align: top;\n",
       "    }\n",
       "\n",
       "    .dataframe thead th {\n",
       "        text-align: right;\n",
       "    }\n",
       "</style>\n",
       "<table border=\"1\" class=\"dataframe\">\n",
       "  <thead>\n",
       "    <tr style=\"text-align: right;\">\n",
       "      <th></th>\n",
       "      <th>timeStamp</th>\n",
       "      <th>value</th>\n",
       "      <th>fuelType</th>\n",
       "    </tr>\n",
       "  </thead>\n",
       "  <tbody>\n",
       "    <tr>\n",
       "      <th>0</th>\n",
       "      <td>2022-09-12 00:00:00-06:00</td>\n",
       "      <td>750</td>\n",
       "      <td>Intertie</td>\n",
       "    </tr>\n",
       "    <tr>\n",
       "      <th>1</th>\n",
       "      <td>2022-09-13 00:00:00-06:00</td>\n",
       "      <td>0</td>\n",
       "      <td>Intertie</td>\n",
       "    </tr>\n",
       "    <tr>\n",
       "      <th>2</th>\n",
       "      <td>2022-09-14 00:00:00-06:00</td>\n",
       "      <td>0</td>\n",
       "      <td>Intertie</td>\n",
       "    </tr>\n",
       "    <tr>\n",
       "      <th>3</th>\n",
       "      <td>2022-09-15 00:00:00-06:00</td>\n",
       "      <td>0</td>\n",
       "      <td>Intertie</td>\n",
       "    </tr>\n",
       "    <tr>\n",
       "      <th>4</th>\n",
       "      <td>2022-09-16 00:00:00-06:00</td>\n",
       "      <td>0</td>\n",
       "      <td>Intertie</td>\n",
       "    </tr>\n",
       "    <tr>\n",
       "      <th>...</th>\n",
       "      <td>...</td>\n",
       "      <td>...</td>\n",
       "      <td>...</td>\n",
       "    </tr>\n",
       "    <tr>\n",
       "      <th>86</th>\n",
       "      <td>2022-12-07 00:00:00-07:00</td>\n",
       "      <td>0</td>\n",
       "      <td>Wind</td>\n",
       "    </tr>\n",
       "    <tr>\n",
       "      <th>87</th>\n",
       "      <td>2022-12-08 00:00:00-07:00</td>\n",
       "      <td>0</td>\n",
       "      <td>Wind</td>\n",
       "    </tr>\n",
       "    <tr>\n",
       "      <th>88</th>\n",
       "      <td>2022-12-09 00:00:00-07:00</td>\n",
       "      <td>0</td>\n",
       "      <td>Wind</td>\n",
       "    </tr>\n",
       "    <tr>\n",
       "      <th>89</th>\n",
       "      <td>2022-12-10 00:00:00-07:00</td>\n",
       "      <td>0</td>\n",
       "      <td>Wind</td>\n",
       "    </tr>\n",
       "    <tr>\n",
       "      <th>90</th>\n",
       "      <td>2022-12-11 00:00:00-07:00</td>\n",
       "      <td>0</td>\n",
       "      <td>Wind</td>\n",
       "    </tr>\n",
       "  </tbody>\n",
       "</table>\n",
       "<p>819 rows × 3 columns</p>\n",
       "</div>"
      ],
      "text/plain": [
       "                   timeStamp  value  fuelType\n",
       "0  2022-09-12 00:00:00-06:00    750  Intertie\n",
       "1  2022-09-13 00:00:00-06:00      0  Intertie\n",
       "2  2022-09-14 00:00:00-06:00      0  Intertie\n",
       "3  2022-09-15 00:00:00-06:00      0  Intertie\n",
       "4  2022-09-16 00:00:00-06:00      0  Intertie\n",
       "..                       ...    ...       ...\n",
       "86 2022-12-07 00:00:00-07:00      0      Wind\n",
       "87 2022-12-08 00:00:00-07:00      0      Wind\n",
       "88 2022-12-09 00:00:00-07:00      0      Wind\n",
       "89 2022-12-10 00:00:00-07:00      0      Wind\n",
       "90 2022-12-11 00:00:00-07:00      0      Wind\n",
       "\n",
       "[819 rows x 3 columns]"
      ]
     },
     "execution_count": 39,
     "metadata": {},
     "output_type": "execute_result"
    }
   ],
   "source": [
    "with open('./daily_df.pickle', 'rb') as handle:\n",
    "    daily = pickle.load(handle)\n",
    "daily"
   ]
  },
  {
   "cell_type": "code",
   "execution_count": 10,
   "metadata": {},
   "outputs": [
    {
     "data": {
      "text/plain": [
       "datetime.date(2022, 9, 21)"
      ]
     },
     "execution_count": 10,
     "metadata": {},
     "output_type": "execute_result"
    }
   ],
   "source": [
    "datetime.now(pytz.timezone('America/Edmonton')).date() + relativedelta(days=7)"
   ]
  },
  {
   "cell_type": "code",
   "execution_count": 7,
   "metadata": {},
   "outputs": [
    {
     "data": {
      "text/plain": [
       "datetime.date(2023, 1, 1)"
      ]
     },
     "execution_count": 7,
     "metadata": {},
     "output_type": "execute_result"
    }
   ],
   "source": [
    " datetime.now(pytz.timezone('America/Edmonton')).date() + relativedelta(months=4, day=1)"
   ]
  },
  {
   "cell_type": "code",
   "execution_count": 9,
   "metadata": {},
   "outputs": [
    {
     "data": {
      "text/plain": [
       "datetime.datetime(2022, 12, 31, 23, 55)"
      ]
     },
     "execution_count": 9,
     "metadata": {},
     "output_type": "execute_result"
    }
   ],
   "source": [
    "datetime(2022,12,31,0)+relativedelta(days=1,minutes=-5)"
   ]
  }
 ],
 "metadata": {
  "kernelspec": {
   "display_name": "Python 3.9.12 ('base')",
   "language": "python",
   "name": "python3"
  },
  "language_info": {
   "codemirror_mode": {
    "name": "ipython",
    "version": 3
   },
   "file_extension": ".py",
   "mimetype": "text/x-python",
   "name": "python",
   "nbconvert_exporter": "python",
   "pygments_lexer": "ipython3",
   "version": "3.9.12"
  },
  "orig_nbformat": 4,
  "vscode": {
   "interpreter": {
    "hash": "7b2c7660418be0c1c726d92d797a7ce8f65e49b2683610c7a567c05150d58fed"
   }
  }
 },
 "nbformat": 4,
 "nbformat_minor": 2
}
