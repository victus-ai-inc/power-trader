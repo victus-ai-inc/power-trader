{
 "cells": [
  {
   "cell_type": "markdown",
   "metadata": {},
   "source": [
    "### PLAN\n",
    "1. Load up to Jun 2022 into BigQuery\n",
    "2. Create github action to run BQ insert script nightly\n",
    "3. Set grouped database table (history_df) in BigQuery to refresh nightly after insert\n",
    "4. Make script to pull data history_df from BigQuery data\n",
    "\n",
    "8. For streamlit app append [history_df, current_df, future_df] to make the combo_df\n",
    "    - put history_df into cache using st.experimental_memo so its only called once each time app is opened"
   ]
  },
  {
   "cell_type": "code",
   "execution_count": 4,
   "metadata": {},
   "outputs": [],
   "source": [
    "# Initialize python libs & SQL creads\n",
    "from datetime import datetime, timedelta, date\n",
    "import pandas as pd\n",
    "from pandasql import sqldf\n",
    "import streamlit as st\n",
    "import pull_nrg_data\n",
    "import json\n",
    "import http.client\n",
    "import certifi\n",
    "import ssl\n",
    "import os\n",
    "import timeit\n",
    "import pickle"
   ]
  },
  {
   "cell_type": "markdown",
   "metadata": {},
   "source": []
  },
  {
   "cell_type": "code",
   "execution_count": null,
   "metadata": {},
   "outputs": [],
   "source": [
    "pull_nrg_data.release_token(accessToken)"
   ]
  },
  {
   "cell_type": "code",
   "execution_count": 150,
   "metadata": {},
   "outputs": [
    {
     "name": "stdout",
     "output_type": "stream",
     "text": [
      "token released\n"
     ]
    }
   ],
   "source": [
    "# Release token\n",
    "import certifi\n",
    "import ssl\n",
    "import http.client\n",
    "server = 'api.nrgstream.com'\n",
    "\n",
    "def release_token(accessToken):\n",
    "    path = '/api/ReleaseToken'\n",
    "    headers = {'Authorization': f'Bearer {accessToken}'}\n",
    "    context = ssl.create_default_context(cafile=certifi.where())\n",
    "    conn = http.client.HTTPSConnection(server,context=context)\n",
    "    conn.request('DELETE', path, None, headers)\n",
    "    res = conn.getresponse()\n",
    "    print('token released')\n",
    "\n",
    "accessToken = 'Bvmk95JWlxZKiXSFb41jCiKlG_96XbHxb_ZSSeFECiWgFk_Y2kBMS0-5gitwoith_1Uvcy_MpZ7yHcpivRX69UJeq_jjeoYYvfqhiMNEAZCAzy_JWjBMuVmrxZFl_P1WfbBSJXFNDrHK2WPIfwCfCQ4FF4YjOx7CI2OrQgN3VvfwnyPXf1Yuujqhfj0oV91YYPixIcI-YdTHOjIpRX34vutUR9pcDd4WX2hsid9_yGC_IGPfXuy_M7PKq7KGvXwCrj-Twdz8pkNIfXkdcAl1mRlt5Lgd4qQdFYBtknqW3jqm12joed1gBECGtuC6G2sQN5nOMA3eyrXeo5oNVfGEngrGsvs'\n",
    "release_token(accessToken)"
   ]
  },
  {
   "cell_type": "code",
   "execution_count": null,
   "metadata": {},
   "outputs": [],
   "source": [
    "# Joining daily to hourly data\n",
    "import pandas as pd\n",
    "\n",
    "intraday = pd.DataFrame(index=pd.date_range('2016-01-01', '2016-01-07', freq='H'),data=[i for i in range(145)], columns=['hourly'])\n",
    "daily = pd.DataFrame(index=pd.date_range('2016-01-01', '2016-01-07', freq='D'), data=[i for i in range(7)], columns=['daily'])\n",
    "df = intraday.join(daily).fillna(method='ffill')\n",
    "df"
   ]
  },
  {
   "cell_type": "code",
   "execution_count": 147,
   "metadata": {},
   "outputs": [
    {
     "data": {
      "text/plain": [
       "{'dates': {'Biomass & Other': datetime.datetime(2022, 1, 1, 0, 0),\n",
       "  'Coal': datetime.datetime(2022, 1, 1, 0, 0),\n",
       "  'Dual Fuel': datetime.datetime(2022, 1, 1, 0, 0),\n",
       "  'Energy Storage': datetime.datetime(2022, 1, 1, 0, 0),\n",
       "  'Hydro': datetime.datetime(2022, 1, 1, 0, 0),\n",
       "  'Natural Gas': datetime.datetime(2022, 8, 30, 10, 23, 10, 345549),\n",
       "  'Solar': datetime.datetime(2022, 1, 1, 0, 0),\n",
       "  'Wind': datetime.datetime(2022, 1, 1, 0, 0)},\n",
       " 'dataframes': [(datetime.date(2022, 8, 30),\n",
       "       timeStamp  value         fuelType\n",
       "   0  2022-01-01    700             Coal\n",
       "   1  2022-02-01      0             Coal\n",
       "   2  2022-03-01     80             Coal\n",
       "   3  2022-04-01    310             Coal\n",
       "   4  2022-05-01      0             Coal\n",
       "   ..        ...    ...              ...\n",
       "   3  2024-04-01     30  Biomass & Other\n",
       "   4  2024-05-01     30  Biomass & Other\n",
       "   5  2024-06-01     30  Biomass & Other\n",
       "   6  2024-07-01     30  Biomass & Other\n",
       "   7  2024-08-01     30  Biomass & Other\n",
       "   \n",
       "   [256 rows x 3 columns]),\n",
       "  (datetime.date(2022, 8, 30),\n",
       "       timeStamp  value         fuelType\n",
       "   0  2022-01-01    700             Coal\n",
       "   1  2022-02-01      0             Coal\n",
       "   2  2022-03-01     80             Coal\n",
       "   3  2022-04-01    310             Coal\n",
       "   4  2022-05-01      0             Coal\n",
       "   ..        ...    ...              ...\n",
       "   3  2024-04-01     30  Biomass & Other\n",
       "   4  2024-05-01     30  Biomass & Other\n",
       "   5  2024-06-01     30  Biomass & Other\n",
       "   6  2024-07-01     30  Biomass & Other\n",
       "   7  2024-08-01     30  Biomass & Other\n",
       "   \n",
       "   [256 rows x 3 columns]),\n",
       "  (datetime.date(2022, 8, 30),\n",
       "       timeStamp  value         fuelType\n",
       "   0  2022-01-01    700             Coal\n",
       "   1  2022-02-01      0             Coal\n",
       "   2  2022-03-01     80             Coal\n",
       "   3  2022-04-01    310             Coal\n",
       "   4  2022-05-01      0             Coal\n",
       "   ..        ...    ...              ...\n",
       "   3  2024-04-01     30  Biomass & Other\n",
       "   4  2024-05-01     30  Biomass & Other\n",
       "   5  2024-06-01     30  Biomass & Other\n",
       "   6  2024-07-01     30  Biomass & Other\n",
       "   7  2024-08-01     30  Biomass & Other\n",
       "   \n",
       "   [256 rows x 3 columns]),\n",
       "  (datetime.date(2022, 8, 30),\n",
       "       timeStamp  value         fuelType\n",
       "   0  2022-01-01    700             Coal\n",
       "   1  2022-02-01      0             Coal\n",
       "   2  2022-03-01     80             Coal\n",
       "   3  2022-04-01    310             Coal\n",
       "   4  2022-05-01      0             Coal\n",
       "   ..        ...    ...              ...\n",
       "   3  2024-04-01     30  Biomass & Other\n",
       "   4  2024-05-01     30  Biomass & Other\n",
       "   5  2024-06-01     30  Biomass & Other\n",
       "   6  2024-07-01     30  Biomass & Other\n",
       "   7  2024-08-01     30  Biomass & Other\n",
       "   \n",
       "   [256 rows x 3 columns]),\n",
       "  (datetime.date(2022, 8, 30),\n",
       "       timeStamp  value         fuelType\n",
       "   0  2022-01-01    700             Coal\n",
       "   1  2022-02-01      0             Coal\n",
       "   2  2022-03-01     80             Coal\n",
       "   3  2022-04-01    310             Coal\n",
       "   4  2022-05-01      0             Coal\n",
       "   ..        ...    ...              ...\n",
       "   3  2024-04-01     30  Biomass & Other\n",
       "   4  2024-05-01     30  Biomass & Other\n",
       "   5  2024-06-01     30  Biomass & Other\n",
       "   6  2024-07-01     30  Biomass & Other\n",
       "   7  2024-08-01     30  Biomass & Other\n",
       "   \n",
       "   [256 rows x 3 columns]),\n",
       "  (datetime.date(2022, 8, 30),\n",
       "       timeStamp  value         fuelType\n",
       "   0  2022-01-01    700             Coal\n",
       "   1  2022-02-01      0             Coal\n",
       "   2  2022-03-01     80             Coal\n",
       "   3  2022-04-01    310             Coal\n",
       "   4  2022-05-01      0             Coal\n",
       "   ..        ...    ...              ...\n",
       "   3  2024-04-01     30  Biomass & Other\n",
       "   4  2024-05-01     30  Biomass & Other\n",
       "   5  2024-06-01     30  Biomass & Other\n",
       "   6  2024-07-01     30  Biomass & Other\n",
       "   7  2024-08-01     30  Biomass & Other\n",
       "   \n",
       "   [256 rows x 3 columns]),\n",
       "  (datetime.date(2022, 8, 30),\n",
       "       timeStamp  value         fuelType\n",
       "   0  2022-01-01    700             Coal\n",
       "   1  2022-02-01      0             Coal\n",
       "   2  2022-03-01     80             Coal\n",
       "   3  2022-04-01    310             Coal\n",
       "   4  2022-05-01      0             Coal\n",
       "   ..        ...    ...              ...\n",
       "   3  2024-04-01     30  Biomass & Other\n",
       "   4  2024-05-01     30  Biomass & Other\n",
       "   5  2024-06-01     30  Biomass & Other\n",
       "   6  2024-07-01     30  Biomass & Other\n",
       "   7  2024-08-01     30  Biomass & Other\n",
       "   \n",
       "   [256 rows x 3 columns])]}"
      ]
     },
     "execution_count": 147,
     "metadata": {},
     "output_type": "execute_result"
    }
   ],
   "source": [
    "with open('./alerts.pickle', 'rb') as handle:\n",
    "        alerts = pickle.load(handle)\n",
    "alerts"
   ]
  },
  {
   "cell_type": "code",
   "execution_count": 144,
   "metadata": {},
   "outputs": [],
   "source": [
    "with open('./alerts.pickle', 'wb') as handle:\n",
    "    pickle.dump(alerts, handle, protocol=pickle.HIGHEST_PROTOCOL)"
   ]
  },
  {
   "cell_type": "code",
   "execution_count": 148,
   "metadata": {},
   "outputs": [
    {
     "data": {
      "text/html": [
       "<div>\n",
       "<style scoped>\n",
       "    .dataframe tbody tr th:only-of-type {\n",
       "        vertical-align: middle;\n",
       "    }\n",
       "\n",
       "    .dataframe tbody tr th {\n",
       "        vertical-align: top;\n",
       "    }\n",
       "\n",
       "    .dataframe thead th {\n",
       "        text-align: right;\n",
       "    }\n",
       "</style>\n",
       "<table border=\"1\" class=\"dataframe\">\n",
       "  <thead>\n",
       "    <tr style=\"text-align: right;\">\n",
       "      <th></th>\n",
       "      <th>timeStamp</th>\n",
       "      <th>value</th>\n",
       "      <th>fuelType</th>\n",
       "    </tr>\n",
       "  </thead>\n",
       "  <tbody>\n",
       "    <tr>\n",
       "      <th>0</th>\n",
       "      <td>2022-01-01</td>\n",
       "      <td>700</td>\n",
       "      <td>Coal</td>\n",
       "    </tr>\n",
       "    <tr>\n",
       "      <th>1</th>\n",
       "      <td>2022-02-01</td>\n",
       "      <td>0</td>\n",
       "      <td>Coal</td>\n",
       "    </tr>\n",
       "    <tr>\n",
       "      <th>2</th>\n",
       "      <td>2022-03-01</td>\n",
       "      <td>80</td>\n",
       "      <td>Coal</td>\n",
       "    </tr>\n",
       "    <tr>\n",
       "      <th>3</th>\n",
       "      <td>2022-04-01</td>\n",
       "      <td>310</td>\n",
       "      <td>Coal</td>\n",
       "    </tr>\n",
       "    <tr>\n",
       "      <th>4</th>\n",
       "      <td>2022-05-01</td>\n",
       "      <td>0</td>\n",
       "      <td>Coal</td>\n",
       "    </tr>\n",
       "    <tr>\n",
       "      <th>...</th>\n",
       "      <td>...</td>\n",
       "      <td>...</td>\n",
       "      <td>...</td>\n",
       "    </tr>\n",
       "    <tr>\n",
       "      <th>3</th>\n",
       "      <td>2024-04-01</td>\n",
       "      <td>30</td>\n",
       "      <td>Biomass &amp; Other</td>\n",
       "    </tr>\n",
       "    <tr>\n",
       "      <th>4</th>\n",
       "      <td>2024-05-01</td>\n",
       "      <td>30</td>\n",
       "      <td>Biomass &amp; Other</td>\n",
       "    </tr>\n",
       "    <tr>\n",
       "      <th>5</th>\n",
       "      <td>2024-06-01</td>\n",
       "      <td>30</td>\n",
       "      <td>Biomass &amp; Other</td>\n",
       "    </tr>\n",
       "    <tr>\n",
       "      <th>6</th>\n",
       "      <td>2024-07-01</td>\n",
       "      <td>30</td>\n",
       "      <td>Biomass &amp; Other</td>\n",
       "    </tr>\n",
       "    <tr>\n",
       "      <th>7</th>\n",
       "      <td>2024-08-01</td>\n",
       "      <td>30</td>\n",
       "      <td>Biomass &amp; Other</td>\n",
       "    </tr>\n",
       "  </tbody>\n",
       "</table>\n",
       "<p>256 rows × 3 columns</p>\n",
       "</div>"
      ],
      "text/plain": [
       "    timeStamp  value         fuelType\n",
       "0  2022-01-01    700             Coal\n",
       "1  2022-02-01      0             Coal\n",
       "2  2022-03-01     80             Coal\n",
       "3  2022-04-01    310             Coal\n",
       "4  2022-05-01      0             Coal\n",
       "..        ...    ...              ...\n",
       "3  2024-04-01     30  Biomass & Other\n",
       "4  2024-05-01     30  Biomass & Other\n",
       "5  2024-06-01     30  Biomass & Other\n",
       "6  2024-07-01     30  Biomass & Other\n",
       "7  2024-08-01     30  Biomass & Other\n",
       "\n",
       "[256 rows x 3 columns]"
      ]
     },
     "execution_count": 148,
     "metadata": {},
     "output_type": "execute_result"
    }
   ],
   "source": [
    "alerts['dataframes'][0][1]"
   ]
  },
  {
   "cell_type": "code",
   "execution_count": 139,
   "metadata": {},
   "outputs": [],
   "source": [
    "for i in range(7):\n",
    "    alerts['dataframes'][i] = (datetime.now().date(), df)\n",
    "    "
   ]
  },
  {
   "cell_type": "code",
   "execution_count": 136,
   "metadata": {},
   "outputs": [
    {
     "data": {
      "text/plain": [
       "[0, 0, 0, 0, 0, 0, 0]"
      ]
     },
     "execution_count": 136,
     "metadata": {},
     "output_type": "execute_result"
    }
   ],
   "source": []
  }
 ],
 "metadata": {
  "kernelspec": {
   "display_name": "Python 3.9.12 ('base')",
   "language": "python",
   "name": "python3"
  },
  "language_info": {
   "codemirror_mode": {
    "name": "ipython",
    "version": 3
   },
   "file_extension": ".py",
   "mimetype": "text/x-python",
   "name": "python",
   "nbconvert_exporter": "python",
   "pygments_lexer": "ipython3",
   "version": "3.9.12"
  },
  "orig_nbformat": 4,
  "vscode": {
   "interpreter": {
    "hash": "7b2c7660418be0c1c726d92d797a7ce8f65e49b2683610c7a567c05150d58fed"
   }
  }
 },
 "nbformat": 4,
 "nbformat_minor": 2
}
