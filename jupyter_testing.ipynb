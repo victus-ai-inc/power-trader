{
 "cells": [
  {
   "cell_type": "code",
   "execution_count": 1,
   "metadata": {},
   "outputs": [],
   "source": [
    "from datetime import datetime, timedelta, date\n",
    "from dateutil.relativedelta import relativedelta\n",
    "import pandas as pd\n",
    "from pandasql import sqldf\n",
    "import streamlit as st\n",
    "import pull_nrg_data\n",
    "import json\n",
    "import http.client\n",
    "import certifi\n",
    "import ssl\n",
    "import os\n",
    "import timeit\n",
    "import pickle\n",
    "import altair as alt\n",
    "import pytz\n",
    "import numpy as np\n",
    "tz = pytz.timezone('America/Edmonton')"
   ]
  },
  {
   "cell_type": "code",
   "execution_count": 11,
   "metadata": {},
   "outputs": [],
   "source": [
    "def release_token(accessToken):\n",
    "    path = '/api/ReleaseToken'\n",
    "    server = 'api.nrgstream.com'\n",
    "    headers = {'Authorization': f'Bearer {accessToken}'}\n",
    "    context = ssl.create_default_context(cafile=certifi.where())\n",
    "    conn = http.client.HTTPSConnection(server,context=context)\n",
    "    conn.request('DELETE', path, None, headers)\n",
    "    res = conn.getresponse()\n",
    "\n",
    "with open('./default_pickle.pickle', 'rb') as handle:\n",
    "    default_pickle = pickle.load(handle)\n",
    "\n",
    "release_token(default_pickle['accessToken'])"
   ]
  },
  {
   "cell_type": "code",
   "execution_count": 12,
   "metadata": {},
   "outputs": [],
   "source": [
    "t = datetime.now(pytz.timezone('America/Edmonton')).date() - timedelta(days=8)\n",
    "t2 = datetime.now(pytz.timezone('America/Edmonton')) - timedelta(days=8)\n",
    "default_pickle = {\n",
    "    'accessToken':'',\n",
    "    'current_data':'',\n",
    "    'daily_outage_dfs':[0]*7,\n",
    "    'monthly_outage_dfs':[0]*7,\n",
    "    'alert_dates':{\n",
    "        'Biomass & Other':t, \n",
    "        'Coal':t,\n",
    "        'Dual Fuel':t,\n",
    "        'Energy Storage':t,\n",
    "        'Hydro':t,\n",
    "        'Natural Gas':t,\n",
    "        'Solar':t,\n",
    "        'Wind':t,\n",
    "        'Intertie':t\n",
    "    }\n",
    "}\n",
    "with open('./default_pickle.pickle', 'wb') as handle:\n",
    "    pickle.dump(default_pickle, handle, protocol=pickle.HIGHEST_PROTOCOL)\n",
    "# Add default current values to dict\n",
    "with open('./current_df.pickle', 'rb') as handle:\n",
    "    current_df = pickle.load(handle)\n",
    "default_pickle['current_data'] = current_df\n",
    "# Add default monthly values to dict\n",
    "with open('./monthly_df.pickle', 'rb') as handle:\n",
    "    monthly = pickle.load(handle)\n",
    "for i in range(7):\n",
    "    default_pickle['monthly_outage_dfs'][i] = (t2,monthly)\n",
    "# Add default daily values to dict\n",
    "with open('./daily_df.pickle', 'rb') as handle:\n",
    "    daily = pickle.load(handle)\n",
    "for i in range(7):\n",
    "    default_pickle['daily_outage_dfs'][i] = (t2,daily)\n",
    "with open('./default_pickle.pickle', 'wb') as handle:\n",
    "    pickle.dump(default_pickle, handle, protocol=pickle.HIGHEST_PROTOCOL)"
   ]
  },
  {
   "cell_type": "code",
   "execution_count": 61,
   "metadata": {},
   "outputs": [
    {
     "data": {
      "text/plain": [
       "(datetime.datetime(2022, 9, 30, 9, 31, 44, 435659, tzinfo=<DstTzInfo 'America/Edmonton' MDT-1 day, 18:00:00 DST>),\n",
       "                    timeStamp  value         fuelType\n",
       " 9  2022-10-01 00:00:00-06:00    470             Coal\n",
       " 10 2022-11-01 00:00:00-06:00     50             Coal\n",
       " 11 2022-12-01 00:00:00-07:00      0             Coal\n",
       " 9  2022-10-01 00:00:00-06:00   1270      Natural Gas\n",
       " 10 2022-11-01 00:00:00-06:00    740      Natural Gas\n",
       " ..                       ...    ...              ...\n",
       " 4  2024-05-01 00:00:00-06:00     30  Biomass & Other\n",
       " 5  2024-06-01 00:00:00-06:00     30  Biomass & Other\n",
       " 6  2024-07-01 00:00:00-06:00     30  Biomass & Other\n",
       " 7  2024-08-01 00:00:00-06:00     30  Biomass & Other\n",
       " 8  2024-09-01 00:00:00-06:00     30  Biomass & Other\n",
       " \n",
       " [192 rows x 3 columns])"
      ]
     },
     "execution_count": 61,
     "metadata": {},
     "output_type": "execute_result"
    }
   ],
   "source": [
    "with open('./monthly_df.pickle', 'rb') as handle:\n",
    "    monthly = pickle.load(handle)\n",
    "monthly[3]"
   ]
  },
  {
   "cell_type": "code",
   "execution_count": 49,
   "metadata": {},
   "outputs": [
    {
     "data": {
      "text/plain": [
       "5"
      ]
     },
     "execution_count": 49,
     "metadata": {},
     "output_type": "execute_result"
    }
   ],
   "source": [
    "len(monthly)"
   ]
  },
  {
   "cell_type": "code",
   "execution_count": 20,
   "metadata": {},
   "outputs": [],
   "source": [
    "with open('./alert_dates.pickle', 'wb') as handle:\n",
    "    pickle.dump(default_pickle['alert_dates'], handle, protocol=pickle.HIGHEST_PROTOCOL)"
   ]
  },
  {
   "cell_type": "code",
   "execution_count": 50,
   "metadata": {},
   "outputs": [],
   "source": [
    "with open('./monthly_df.pickle', 'wb') as handle:\n",
    "    pickle.dump(monthly, handle, protocol=pickle.HIGHEST_PROTOCOL)"
   ]
  },
  {
   "cell_type": "code",
   "execution_count": 12,
   "metadata": {},
   "outputs": [
    {
     "data": {
      "text/plain": [
       "(datetime.datetime(2022, 9, 26, 20, 43, 38, 233194, tzinfo=<DstTzInfo 'America/Edmonton' MDT-1 day, 18:00:00 DST>),\n",
       "                    timeStamp  value              fuelType\n",
       " 0  2022-09-26 00:00:00-06:00    0.0              Intertie\n",
       " 1  2022-09-26 01:00:00-06:00    0.0              Intertie\n",
       " 2  2022-09-26 02:00:00-06:00    0.0              Intertie\n",
       " 3  2022-09-26 03:00:00-06:00    0.0              Intertie\n",
       " 4  2022-09-26 04:00:00-06:00    0.0              Intertie\n",
       " ..                       ...    ...                   ...\n",
       " 72 2022-09-29 00:00:00-06:00    0.0  3-Day Solar Forecast\n",
       " 73 2022-09-29 01:00:00-06:00    0.0  3-Day Solar Forecast\n",
       " 74 2022-09-29 02:00:00-06:00    0.0  3-Day Solar Forecast\n",
       " 75 2022-09-29 03:00:00-06:00    0.0  3-Day Solar Forecast\n",
       " 76 2022-09-29 04:00:00-06:00    0.0  3-Day Solar Forecast\n",
       " \n",
       " [26829 rows x 3 columns])"
      ]
     },
     "execution_count": 12,
     "metadata": {},
     "output_type": "execute_result"
    }
   ],
   "source": [
    "with open('./daily_df.pickle', 'rb') as monthly:\n",
    "    monthly_df = pickle.load(monthly)\n",
    "monthly_df[5]"
   ]
  }
 ],
 "metadata": {
  "kernelspec": {
   "display_name": "Python 3.8.10 64-bit",
   "language": "python",
   "name": "python3"
  },
  "language_info": {
   "codemirror_mode": {
    "name": "ipython",
    "version": 3
   },
   "file_extension": ".py",
   "mimetype": "text/x-python",
   "name": "python",
   "nbconvert_exporter": "python",
   "pygments_lexer": "ipython3",
   "version": "3.8.10"
  },
  "orig_nbformat": 4,
  "vscode": {
   "interpreter": {
    "hash": "916dbcbb3f70747c44a77c7bcd40155683ae19c65e1c03b4aa3499c5328201f1"
   }
  }
 },
 "nbformat": 4,
 "nbformat_minor": 2
}
