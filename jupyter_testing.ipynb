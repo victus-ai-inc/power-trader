{
 "cells": [
  {
   "cell_type": "code",
   "execution_count": 1,
   "metadata": {},
   "outputs": [],
   "source": [
    "from datetime import datetime, timedelta, date\n",
    "from dateutil.relativedelta import relativedelta\n",
    "import pandas as pd\n",
    "from pandasql import sqldf\n",
    "import streamlit as st\n",
    "import pull_nrg_data\n",
    "import json\n",
    "import http.client\n",
    "import certifi\n",
    "import ssl\n",
    "import os\n",
    "import timeit\n",
    "import pickle\n",
    "import altair as alt\n",
    "import pytz\n",
    "import numpy as np\n",
    "tz = pytz.timezone('America/Edmonton')"
   ]
  },
  {
   "cell_type": "code",
   "execution_count": 11,
   "metadata": {},
   "outputs": [],
   "source": [
    "def release_token(accessToken):\n",
    "    path = '/api/ReleaseToken'\n",
    "    server = 'api.nrgstream.com'\n",
    "    headers = {'Authorization': f'Bearer {accessToken}'}\n",
    "    context = ssl.create_default_context(cafile=certifi.where())\n",
    "    conn = http.client.HTTPSConnection(server,context=context)\n",
    "    conn.request('DELETE', path, None, headers)\n",
    "    res = conn.getresponse()\n",
    "\n",
    "with open('./default_pickle.pickle', 'rb') as handle:\n",
    "    default_pickle = pickle.load(handle)\n",
    "\n",
    "release_token(default_pickle['accessToken'])"
   ]
  },
  {
   "cell_type": "code",
   "execution_count": 12,
   "metadata": {},
   "outputs": [],
   "source": [
    "t = datetime.now(pytz.timezone('America/Edmonton')).date() - timedelta(days=8)\n",
    "t2 = datetime.now(pytz.timezone('America/Edmonton')) - timedelta(days=8)\n",
    "default_pickle = {\n",
    "    'accessToken':'',\n",
    "    'current_data':'',\n",
    "    'daily_outage_dfs':[0]*7,\n",
    "    'monthly_outage_dfs':[0]*7,\n",
    "    'alert_dates':{\n",
    "        'Biomass & Other':t, \n",
    "        'Coal':t,\n",
    "        'Dual Fuel':t,\n",
    "        'Energy Storage':t,\n",
    "        'Hydro':t,\n",
    "        'Natural Gas':t,\n",
    "        'Solar':t,\n",
    "        'Wind':t,\n",
    "        'Intertie':t\n",
    "    }\n",
    "}\n",
    "with open('./default_pickle.pickle', 'wb') as handle:\n",
    "    pickle.dump(default_pickle, handle, protocol=pickle.HIGHEST_PROTOCOL)\n",
    "# Add default current values to dict\n",
    "with open('./current_df.pickle', 'rb') as handle:\n",
    "    current_df = pickle.load(handle)\n",
    "default_pickle['current_data'] = current_df\n",
    "# Add default monthly values to dict\n",
    "with open('./monthly_df.pickle', 'rb') as handle:\n",
    "    monthly = pickle.load(handle)\n",
    "for i in range(7):\n",
    "    default_pickle['monthly_outage_dfs'][i] = (t2,monthly)\n",
    "# Add default daily values to dict\n",
    "with open('./daily_df.pickle', 'rb') as handle:\n",
    "    daily = pickle.load(handle)\n",
    "for i in range(7):\n",
    "    default_pickle['daily_outage_dfs'][i] = (t2,daily)\n",
    "with open('./default_pickle.pickle', 'wb') as handle:\n",
    "    pickle.dump(default_pickle, handle, protocol=pickle.HIGHEST_PROTOCOL)"
   ]
  },
  {
   "cell_type": "code",
   "execution_count": 62,
   "metadata": {},
   "outputs": [
    {
     "data": {
      "text/plain": [
       "(datetime.datetime(2022, 9, 30, 10, 47, 39, 556364, tzinfo=<DstTzInfo 'America/Edmonton' MDT-1 day, 18:00:00 DST>),\n",
       "                    timeStamp   value              fuelType\n",
       " 0  2022-09-30 00:00:00-06:00  115.00              Intertie\n",
       " 1  2022-09-30 01:00:00-06:00  115.00              Intertie\n",
       " 2  2022-09-30 02:00:00-06:00  115.00              Intertie\n",
       " 3  2022-09-30 03:00:00-06:00  115.00              Intertie\n",
       " 4  2022-09-30 04:00:00-06:00  115.00              Intertie\n",
       " ..                       ...     ...                   ...\n",
       " 62 2022-10-02 14:00:00-06:00  572.24  3-Day Solar Forecast\n",
       " 63 2022-10-02 15:00:00-06:00  573.72  3-Day Solar Forecast\n",
       " 64 2022-10-02 16:00:00-06:00  562.31  3-Day Solar Forecast\n",
       " 65 2022-10-02 17:00:00-06:00  482.50  3-Day Solar Forecast\n",
       " 66 2022-10-02 18:00:00-06:00  313.85  3-Day Solar Forecast\n",
       " \n",
       " [25955 rows x 3 columns])"
      ]
     },
     "execution_count": 62,
     "metadata": {},
     "output_type": "execute_result"
    }
   ],
   "source": [
    "with open('./daily_df.pickle', 'rb') as handle:\n",
    "    daily = pickle.load(handle)\n",
    "daily[4]"
   ]
  },
  {
   "cell_type": "code",
   "execution_count": 75,
   "metadata": {},
   "outputs": [],
   "source": [
    "dd = dd[~dd['fuelType'].isin(['3-Day Solar Forecast','7-Day Wind Forecast'])]"
   ]
  },
  {
   "cell_type": "code",
   "execution_count": 79,
   "metadata": {},
   "outputs": [
    {
     "data": {
      "text/plain": [
       "[(datetime.datetime(2022, 9, 30, 10, 57, 8, 792351, tzinfo=<DstTzInfo 'America/Edmonton' MDT-1 day, 18:00:00 DST>),\n",
       "                        timeStamp  value  fuelType\n",
       "  0     2022-09-30 00:00:00-06:00  115.0  Intertie\n",
       "  1     2022-09-30 01:00:00-06:00  115.0  Intertie\n",
       "  2     2022-09-30 02:00:00-06:00  115.0  Intertie\n",
       "  3     2022-09-30 03:00:00-06:00  115.0  Intertie\n",
       "  4     2022-09-30 04:00:00-06:00  115.0  Intertie\n",
       "  ...                         ...    ...       ...\n",
       "  17675 2022-12-30 20:00:00-07:00    0.0      Wind\n",
       "  17676 2022-12-30 21:00:00-07:00    0.0      Wind\n",
       "  17677 2022-12-30 22:00:00-07:00    0.0      Wind\n",
       "  17678 2022-12-30 23:00:00-07:00    0.0      Wind\n",
       "  17679 2022-12-31 00:00:00-07:00    0.0      Wind\n",
       "  \n",
       "  [25720 rows x 3 columns]),\n",
       " (datetime.datetime(2022, 9, 30, 10, 57, 8, 792388, tzinfo=<DstTzInfo 'America/Edmonton' MDT-1 day, 18:00:00 DST>),\n",
       "                        timeStamp  value  fuelType\n",
       "  0     2022-09-30 00:00:00-06:00  115.0  Intertie\n",
       "  1     2022-09-30 01:00:00-06:00  115.0  Intertie\n",
       "  2     2022-09-30 02:00:00-06:00  115.0  Intertie\n",
       "  3     2022-09-30 03:00:00-06:00  115.0  Intertie\n",
       "  4     2022-09-30 04:00:00-06:00  115.0  Intertie\n",
       "  ...                         ...    ...       ...\n",
       "  17675 2022-12-30 20:00:00-07:00    0.0      Wind\n",
       "  17676 2022-12-30 21:00:00-07:00    0.0      Wind\n",
       "  17677 2022-12-30 22:00:00-07:00    0.0      Wind\n",
       "  17678 2022-12-30 23:00:00-07:00    0.0      Wind\n",
       "  17679 2022-12-31 00:00:00-07:00    0.0      Wind\n",
       "  \n",
       "  [25720 rows x 3 columns]),\n",
       " (datetime.datetime(2022, 9, 30, 10, 57, 8, 792399, tzinfo=<DstTzInfo 'America/Edmonton' MDT-1 day, 18:00:00 DST>),\n",
       "                        timeStamp  value  fuelType\n",
       "  0     2022-09-30 00:00:00-06:00  115.0  Intertie\n",
       "  1     2022-09-30 01:00:00-06:00  115.0  Intertie\n",
       "  2     2022-09-30 02:00:00-06:00  115.0  Intertie\n",
       "  3     2022-09-30 03:00:00-06:00  115.0  Intertie\n",
       "  4     2022-09-30 04:00:00-06:00  115.0  Intertie\n",
       "  ...                         ...    ...       ...\n",
       "  17675 2022-12-30 20:00:00-07:00    0.0      Wind\n",
       "  17676 2022-12-30 21:00:00-07:00    0.0      Wind\n",
       "  17677 2022-12-30 22:00:00-07:00    0.0      Wind\n",
       "  17678 2022-12-30 23:00:00-07:00    0.0      Wind\n",
       "  17679 2022-12-31 00:00:00-07:00    0.0      Wind\n",
       "  \n",
       "  [25720 rows x 3 columns]),\n",
       " (datetime.datetime(2022, 9, 30, 10, 57, 8, 792411, tzinfo=<DstTzInfo 'America/Edmonton' MDT-1 day, 18:00:00 DST>),\n",
       "                        timeStamp  value  fuelType\n",
       "  0     2022-09-30 00:00:00-06:00  115.0  Intertie\n",
       "  1     2022-09-30 01:00:00-06:00  115.0  Intertie\n",
       "  2     2022-09-30 02:00:00-06:00  115.0  Intertie\n",
       "  3     2022-09-30 03:00:00-06:00  115.0  Intertie\n",
       "  4     2022-09-30 04:00:00-06:00  115.0  Intertie\n",
       "  ...                         ...    ...       ...\n",
       "  17675 2022-12-30 20:00:00-07:00    0.0      Wind\n",
       "  17676 2022-12-30 21:00:00-07:00    0.0      Wind\n",
       "  17677 2022-12-30 22:00:00-07:00    0.0      Wind\n",
       "  17678 2022-12-30 23:00:00-07:00    0.0      Wind\n",
       "  17679 2022-12-31 00:00:00-07:00    0.0      Wind\n",
       "  \n",
       "  [25720 rows x 3 columns]),\n",
       " (datetime.datetime(2022, 9, 30, 10, 57, 8, 792423, tzinfo=<DstTzInfo 'America/Edmonton' MDT-1 day, 18:00:00 DST>),\n",
       "                        timeStamp  value  fuelType\n",
       "  0     2022-09-30 00:00:00-06:00  115.0  Intertie\n",
       "  1     2022-09-30 01:00:00-06:00  115.0  Intertie\n",
       "  2     2022-09-30 02:00:00-06:00  115.0  Intertie\n",
       "  3     2022-09-30 03:00:00-06:00  115.0  Intertie\n",
       "  4     2022-09-30 04:00:00-06:00  115.0  Intertie\n",
       "  ...                         ...    ...       ...\n",
       "  17675 2022-12-30 20:00:00-07:00    0.0      Wind\n",
       "  17676 2022-12-30 21:00:00-07:00    0.0      Wind\n",
       "  17677 2022-12-30 22:00:00-07:00    0.0      Wind\n",
       "  17678 2022-12-30 23:00:00-07:00    0.0      Wind\n",
       "  17679 2022-12-31 00:00:00-07:00    0.0      Wind\n",
       "  \n",
       "  [25720 rows x 3 columns])]"
      ]
     },
     "execution_count": 79,
     "metadata": {},
     "output_type": "execute_result"
    }
   ],
   "source": [
    "daily"
   ]
  },
  {
   "cell_type": "code",
   "execution_count": 20,
   "metadata": {},
   "outputs": [],
   "source": [
    "with open('./alert_dates.pickle', 'wb') as handle:\n",
    "    pickle.dump(default_pickle['alert_dates'], handle, protocol=pickle.HIGHEST_PROTOCOL)"
   ]
  },
  {
   "cell_type": "code",
   "execution_count": 80,
   "metadata": {},
   "outputs": [],
   "source": [
    "with open('./daily_df.pickle', 'wb') as handle:\n",
    "    pickle.dump(daily, handle, protocol=pickle.HIGHEST_PROTOCOL)"
   ]
  },
  {
   "cell_type": "code",
   "execution_count": 12,
   "metadata": {},
   "outputs": [
    {
     "data": {
      "text/plain": [
       "(datetime.datetime(2022, 9, 26, 20, 43, 38, 233194, tzinfo=<DstTzInfo 'America/Edmonton' MDT-1 day, 18:00:00 DST>),\n",
       "                    timeStamp  value              fuelType\n",
       " 0  2022-09-26 00:00:00-06:00    0.0              Intertie\n",
       " 1  2022-09-26 01:00:00-06:00    0.0              Intertie\n",
       " 2  2022-09-26 02:00:00-06:00    0.0              Intertie\n",
       " 3  2022-09-26 03:00:00-06:00    0.0              Intertie\n",
       " 4  2022-09-26 04:00:00-06:00    0.0              Intertie\n",
       " ..                       ...    ...                   ...\n",
       " 72 2022-09-29 00:00:00-06:00    0.0  3-Day Solar Forecast\n",
       " 73 2022-09-29 01:00:00-06:00    0.0  3-Day Solar Forecast\n",
       " 74 2022-09-29 02:00:00-06:00    0.0  3-Day Solar Forecast\n",
       " 75 2022-09-29 03:00:00-06:00    0.0  3-Day Solar Forecast\n",
       " 76 2022-09-29 04:00:00-06:00    0.0  3-Day Solar Forecast\n",
       " \n",
       " [26829 rows x 3 columns])"
      ]
     },
     "execution_count": 12,
     "metadata": {},
     "output_type": "execute_result"
    }
   ],
   "source": [
    "with open('./daily_df.pickle', 'rb') as monthly:\n",
    "    monthly_df = pickle.load(monthly)\n",
    "monthly_df[5]"
   ]
  }
 ],
 "metadata": {
  "kernelspec": {
   "display_name": "Python 3.8.10 64-bit",
   "language": "python",
   "name": "python3"
  },
  "language_info": {
   "codemirror_mode": {
    "name": "ipython",
    "version": 3
   },
   "file_extension": ".py",
   "mimetype": "text/x-python",
   "name": "python",
   "nbconvert_exporter": "python",
   "pygments_lexer": "ipython3",
   "version": "3.8.10"
  },
  "orig_nbformat": 4,
  "vscode": {
   "interpreter": {
    "hash": "916dbcbb3f70747c44a77c7bcd40155683ae19c65e1c03b4aa3499c5328201f1"
   }
  }
 },
 "nbformat": 4,
 "nbformat_minor": 2
}
