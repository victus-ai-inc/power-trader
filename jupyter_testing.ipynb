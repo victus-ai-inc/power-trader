{
 "cells": [
  {
   "cell_type": "code",
   "execution_count": 2,
   "metadata": {},
   "outputs": [],
   "source": [
    "# Initialize python libs & SQL creads\n",
    "from datetime import datetime, timedelta, date\n",
    "from dateutil.relativedelta import relativedelta\n",
    "import pandas as pd\n",
    "from pandasql import sqldf\n",
    "import streamlit as st\n",
    "import pull_nrg_data\n",
    "import json\n",
    "import http.client\n",
    "import certifi\n",
    "import ssl\n",
    "import os\n",
    "import timeit\n",
    "import pickle\n",
    "import altair as alt\n",
    "import pytz\n",
    "import numpy as np"
   ]
  },
  {
   "cell_type": "code",
   "execution_count": 12,
   "metadata": {},
   "outputs": [],
   "source": [
    "t = datetime.now(pytz.timezone('America/Edmonton')).date() - timedelta(days=8)\n",
    "t2 = datetime.now(pytz.timezone('America/Edmonton')) - timedelta(days=8)\n",
    "default_pickle = {\n",
    "    'accessToken':'',\n",
    "    'current_data':'',\n",
    "    'daily_outage_dfs':[0]*7,\n",
    "    'monthly_outage_dfs':[0]*7,\n",
    "    'alert_dates':{\n",
    "        'Biomass & Other':t, \n",
    "        'Coal':t,\n",
    "        'Dual Fuel':t,\n",
    "        'Energy Storage':t,\n",
    "        'Hydro':t,\n",
    "        'Natural Gas':t,\n",
    "        'Solar':t,\n",
    "        'Wind':t,\n",
    "        'Intertie':t\n",
    "    }\n",
    "}\n",
    "with open('./default_pickle.pickle', 'wb') as handle:\n",
    "    pickle.dump(default_pickle, handle, protocol=pickle.HIGHEST_PROTOCOL)\n",
    "# Add default current values to dict\n",
    "with open('./current_df.pickle', 'rb') as handle:\n",
    "    current_df = pickle.load(handle)\n",
    "default_pickle['current_data'] = current_df\n",
    "# Add default monthly values to dict\n",
    "with open('./monthly_df.pickle', 'rb') as handle:\n",
    "    monthly = pickle.load(handle)\n",
    "for i in range(7):\n",
    "    default_pickle['monthly_outage_dfs'][i] = (t2,monthly)\n",
    "# Add default daily values to dict\n",
    "with open('./daily_df.pickle', 'rb') as handle:\n",
    "    daily = pickle.load(handle)\n",
    "for i in range(7):\n",
    "    default_pickle['daily_outage_dfs'][i] = (t2,daily)\n",
    "with open('./default_pickle.pickle', 'wb') as handle:\n",
    "    pickle.dump(default_pickle, handle, protocol=pickle.HIGHEST_PROTOCOL)"
   ]
  },
  {
   "cell_type": "code",
   "execution_count": 80,
   "metadata": {},
   "outputs": [
    {
     "data": {
      "text/plain": [
       "(datetime.datetime(2022, 9, 13, 14, 9, 10, 133302, tzinfo=<DstTzInfo 'America/Edmonton' MDT-1 day, 18:00:00 DST>),\n",
       "                     timeStamp  value  fuelType\n",
       " 0   2022-09-13 00:00:00-06:00    712  Intertie\n",
       " 1   2022-09-14 00:00:00-06:00      0  Intertie\n",
       " 2   2022-09-15 00:00:00-06:00      0  Intertie\n",
       " 3   2022-09-16 00:00:00-06:00      0  Intertie\n",
       " 4   2022-09-17 00:00:00-06:00      0  Intertie\n",
       " ..                        ...    ...       ...\n",
       " 104 2022-12-26 00:00:00-07:00      0      Wind\n",
       " 105 2022-12-27 00:00:00-07:00      0      Wind\n",
       " 106 2022-12-28 00:00:00-07:00      0      Wind\n",
       " 107 2022-12-29 00:00:00-07:00      0      Wind\n",
       " 108 2022-12-30 00:00:00-07:00      0      Wind\n",
       " \n",
       " [1224 rows x 3 columns])"
      ]
     },
     "execution_count": 80,
     "metadata": {},
     "output_type": "execute_result"
    }
   ],
   "source": [
    "with open('./default_pickle.pickle', 'rb') as handle:\n",
    "    default_pickle = pickle.load(handle)\n",
    "default_pickle['daily_outage_dfs'][6]"
   ]
  },
  {
   "cell_type": "code",
   "execution_count": 45,
   "metadata": {},
   "outputs": [
    {
     "data": {
      "text/plain": [
       "(datetime.datetime(2022, 9, 13, 14, 5, 41, 529377, tzinfo=<DstTzInfo 'America/Edmonton' MDT-1 day, 18:00:00 DST>),\n",
       "                     timeStamp  value  fuelType\n",
       " 0   2022-09-13 00:00:00-06:00    712  Intertie\n",
       " 1   2022-09-14 00:00:00-06:00      0  Intertie\n",
       " 2   2022-09-15 00:00:00-06:00      0  Intertie\n",
       " 3   2022-09-16 00:00:00-06:00      0  Intertie\n",
       " 4   2022-09-17 00:00:00-06:00      0  Intertie\n",
       " ..                        ...    ...       ...\n",
       " 104 2022-12-26 00:00:00-07:00      0      Wind\n",
       " 105 2022-12-27 00:00:00-07:00      0      Wind\n",
       " 106 2022-12-28 00:00:00-07:00      0      Wind\n",
       " 107 2022-12-29 00:00:00-07:00      0      Wind\n",
       " 108 2022-12-30 00:00:00-07:00      0      Wind\n",
       " \n",
       " [1224 rows x 3 columns])"
      ]
     },
     "execution_count": 45,
     "metadata": {},
     "output_type": "execute_result"
    }
   ],
   "source": [
    "default_pickle"
   ]
  },
  {
   "cell_type": "code",
   "execution_count": 39,
   "metadata": {},
   "outputs": [
    {
     "data": {
      "text/html": [
       "<div>\n",
       "<style scoped>\n",
       "    .dataframe tbody tr th:only-of-type {\n",
       "        vertical-align: middle;\n",
       "    }\n",
       "\n",
       "    .dataframe tbody tr th {\n",
       "        vertical-align: top;\n",
       "    }\n",
       "\n",
       "    .dataframe thead th {\n",
       "        text-align: right;\n",
       "    }\n",
       "</style>\n",
       "<table border=\"1\" class=\"dataframe\">\n",
       "  <thead>\n",
       "    <tr style=\"text-align: right;\">\n",
       "      <th></th>\n",
       "      <th>timeStamp</th>\n",
       "      <th>value</th>\n",
       "      <th>fuelType</th>\n",
       "    </tr>\n",
       "  </thead>\n",
       "  <tbody>\n",
       "    <tr>\n",
       "      <th>0</th>\n",
       "      <td>2022-09-12 00:00:00-06:00</td>\n",
       "      <td>750</td>\n",
       "      <td>Intertie</td>\n",
       "    </tr>\n",
       "    <tr>\n",
       "      <th>1</th>\n",
       "      <td>2022-09-13 00:00:00-06:00</td>\n",
       "      <td>0</td>\n",
       "      <td>Intertie</td>\n",
       "    </tr>\n",
       "    <tr>\n",
       "      <th>2</th>\n",
       "      <td>2022-09-14 00:00:00-06:00</td>\n",
       "      <td>0</td>\n",
       "      <td>Intertie</td>\n",
       "    </tr>\n",
       "    <tr>\n",
       "      <th>3</th>\n",
       "      <td>2022-09-15 00:00:00-06:00</td>\n",
       "      <td>0</td>\n",
       "      <td>Intertie</td>\n",
       "    </tr>\n",
       "    <tr>\n",
       "      <th>4</th>\n",
       "      <td>2022-09-16 00:00:00-06:00</td>\n",
       "      <td>0</td>\n",
       "      <td>Intertie</td>\n",
       "    </tr>\n",
       "    <tr>\n",
       "      <th>...</th>\n",
       "      <td>...</td>\n",
       "      <td>...</td>\n",
       "      <td>...</td>\n",
       "    </tr>\n",
       "    <tr>\n",
       "      <th>86</th>\n",
       "      <td>2022-12-07 00:00:00-07:00</td>\n",
       "      <td>0</td>\n",
       "      <td>Wind</td>\n",
       "    </tr>\n",
       "    <tr>\n",
       "      <th>87</th>\n",
       "      <td>2022-12-08 00:00:00-07:00</td>\n",
       "      <td>0</td>\n",
       "      <td>Wind</td>\n",
       "    </tr>\n",
       "    <tr>\n",
       "      <th>88</th>\n",
       "      <td>2022-12-09 00:00:00-07:00</td>\n",
       "      <td>0</td>\n",
       "      <td>Wind</td>\n",
       "    </tr>\n",
       "    <tr>\n",
       "      <th>89</th>\n",
       "      <td>2022-12-10 00:00:00-07:00</td>\n",
       "      <td>0</td>\n",
       "      <td>Wind</td>\n",
       "    </tr>\n",
       "    <tr>\n",
       "      <th>90</th>\n",
       "      <td>2022-12-11 00:00:00-07:00</td>\n",
       "      <td>0</td>\n",
       "      <td>Wind</td>\n",
       "    </tr>\n",
       "  </tbody>\n",
       "</table>\n",
       "<p>819 rows × 3 columns</p>\n",
       "</div>"
      ],
      "text/plain": [
       "                   timeStamp  value  fuelType\n",
       "0  2022-09-12 00:00:00-06:00    750  Intertie\n",
       "1  2022-09-13 00:00:00-06:00      0  Intertie\n",
       "2  2022-09-14 00:00:00-06:00      0  Intertie\n",
       "3  2022-09-15 00:00:00-06:00      0  Intertie\n",
       "4  2022-09-16 00:00:00-06:00      0  Intertie\n",
       "..                       ...    ...       ...\n",
       "86 2022-12-07 00:00:00-07:00      0      Wind\n",
       "87 2022-12-08 00:00:00-07:00      0      Wind\n",
       "88 2022-12-09 00:00:00-07:00      0      Wind\n",
       "89 2022-12-10 00:00:00-07:00      0      Wind\n",
       "90 2022-12-11 00:00:00-07:00      0      Wind\n",
       "\n",
       "[819 rows x 3 columns]"
      ]
     },
     "execution_count": 39,
     "metadata": {},
     "output_type": "execute_result"
    }
   ],
   "source": [
    "with open('./daily_df.pickle', 'rb') as handle:\n",
    "    daily = pickle.load(handle)\n",
    "daily"
   ]
  },
  {
   "cell_type": "code",
   "execution_count": 154,
   "metadata": {},
   "outputs": [
    {
     "data": {
      "text/html": [
       "<div>\n",
       "<style scoped>\n",
       "    .dataframe tbody tr th:only-of-type {\n",
       "        vertical-align: middle;\n",
       "    }\n",
       "\n",
       "    .dataframe tbody tr th {\n",
       "        vertical-align: top;\n",
       "    }\n",
       "\n",
       "    .dataframe thead th {\n",
       "        text-align: right;\n",
       "    }\n",
       "</style>\n",
       "<table border=\"1\" class=\"dataframe\">\n",
       "  <thead>\n",
       "    <tr style=\"text-align: right;\">\n",
       "      <th></th>\n",
       "      <th>fuel</th>\n",
       "      <th>val_x</th>\n",
       "      <th>time_x</th>\n",
       "      <th>val_y</th>\n",
       "      <th>time_y</th>\n",
       "      <th>merge</th>\n",
       "    </tr>\n",
       "  </thead>\n",
       "  <tbody>\n",
       "    <tr>\n",
       "      <th>0</th>\n",
       "      <td>oil</td>\n",
       "      <td>10</td>\n",
       "      <td>1</td>\n",
       "      <td>15.0</td>\n",
       "      <td>2.0</td>\n",
       "      <td>15.0</td>\n",
       "    </tr>\n",
       "    <tr>\n",
       "      <th>1</th>\n",
       "      <td>gas</td>\n",
       "      <td>20</td>\n",
       "      <td>1</td>\n",
       "      <td>NaN</td>\n",
       "      <td>NaN</td>\n",
       "      <td>20.0</td>\n",
       "    </tr>\n",
       "    <tr>\n",
       "      <th>2</th>\n",
       "      <td>solar</td>\n",
       "      <td>30</td>\n",
       "      <td>1</td>\n",
       "      <td>34.0</td>\n",
       "      <td>2.0</td>\n",
       "      <td>34.0</td>\n",
       "    </tr>\n",
       "    <tr>\n",
       "      <th>3</th>\n",
       "      <td>wind</td>\n",
       "      <td>40</td>\n",
       "      <td>1</td>\n",
       "      <td>NaN</td>\n",
       "      <td>NaN</td>\n",
       "      <td>40.0</td>\n",
       "    </tr>\n",
       "  </tbody>\n",
       "</table>\n",
       "</div>"
      ],
      "text/plain": [
       "    fuel  val_x  time_x  val_y  time_y  merge\n",
       "0    oil     10       1   15.0     2.0   15.0\n",
       "1    gas     20       1    NaN     NaN   20.0\n",
       "2  solar     30       1   34.0     2.0   34.0\n",
       "3   wind     40       1    NaN     NaN   40.0"
      ]
     },
     "execution_count": 154,
     "metadata": {},
     "output_type": "execute_result"
    }
   ],
   "source": [
    "df1 = pd.DataFrame({'fuel':['oil','gas','solar','wind'],'val':[10,20,30,40],'time':[1,1,1,1]})\n",
    "df2 = pd.DataFrame({'fuel':['oil','solar'],'val':[15,34],'time':[2,2]})\n",
    "df3 = pd.merge(df1,df2, on='fuel', how='outer')\n",
    "df3['merge']=np.where(df3['time_y']>df3['time_x'],df3['val_y'],df3['val_x'])\n",
    "df3"
   ]
  },
  {
   "cell_type": "code",
   "execution_count": 151,
   "metadata": {},
   "outputs": [
    {
     "ename": "ValueError",
     "evalue": "Can only compare identically-labeled DataFrame objects",
     "output_type": "error",
     "traceback": [
      "\u001b[0;31m---------------------------------------------------------------------------\u001b[0m",
      "\u001b[0;31mValueError\u001b[0m                                Traceback (most recent call last)",
      "\u001b[1;32m/home/ryan-bulger/power-trader/jupyter_testing.ipynb Cell 7\u001b[0m in \u001b[0;36m<cell line: 1>\u001b[0;34m()\u001b[0m\n\u001b[0;32m----> <a href='vscode-notebook-cell://wsl%2Bubuntu/home/ryan-bulger/power-trader/jupyter_testing.ipynb#W6sdnNjb2RlLXJlbW90ZQ%3D%3D?line=0'>1</a>\u001b[0m np\u001b[39m.\u001b[39mwhere(df1\u001b[39m>\u001b[39;49mdf2,df2)\n",
      "File \u001b[0;32m~/miniconda3/lib/python3.9/site-packages/pandas/core/ops/common.py:70\u001b[0m, in \u001b[0;36m_unpack_zerodim_and_defer.<locals>.new_method\u001b[0;34m(self, other)\u001b[0m\n\u001b[1;32m     66\u001b[0m             \u001b[39mreturn\u001b[39;00m \u001b[39mNotImplemented\u001b[39m\n\u001b[1;32m     68\u001b[0m other \u001b[39m=\u001b[39m item_from_zerodim(other)\n\u001b[0;32m---> 70\u001b[0m \u001b[39mreturn\u001b[39;00m method(\u001b[39mself\u001b[39;49m, other)\n",
      "File \u001b[0;32m~/miniconda3/lib/python3.9/site-packages/pandas/core/arraylike.py:56\u001b[0m, in \u001b[0;36mOpsMixin.__gt__\u001b[0;34m(self, other)\u001b[0m\n\u001b[1;32m     54\u001b[0m \u001b[39m@unpack_zerodim_and_defer\u001b[39m(\u001b[39m\"\u001b[39m\u001b[39m__gt__\u001b[39m\u001b[39m\"\u001b[39m)\n\u001b[1;32m     55\u001b[0m \u001b[39mdef\u001b[39;00m \u001b[39m__gt__\u001b[39m(\u001b[39mself\u001b[39m, other):\n\u001b[0;32m---> 56\u001b[0m     \u001b[39mreturn\u001b[39;00m \u001b[39mself\u001b[39;49m\u001b[39m.\u001b[39;49m_cmp_method(other, operator\u001b[39m.\u001b[39;49mgt)\n",
      "File \u001b[0;32m~/miniconda3/lib/python3.9/site-packages/pandas/core/frame.py:6937\u001b[0m, in \u001b[0;36mDataFrame._cmp_method\u001b[0;34m(self, other, op)\u001b[0m\n\u001b[1;32m   6934\u001b[0m \u001b[39mdef\u001b[39;00m \u001b[39m_cmp_method\u001b[39m(\u001b[39mself\u001b[39m, other, op):\n\u001b[1;32m   6935\u001b[0m     axis \u001b[39m=\u001b[39m \u001b[39m1\u001b[39m  \u001b[39m# only relevant for Series other case\u001b[39;00m\n\u001b[0;32m-> 6937\u001b[0m     \u001b[39mself\u001b[39m, other \u001b[39m=\u001b[39m ops\u001b[39m.\u001b[39;49malign_method_FRAME(\u001b[39mself\u001b[39;49m, other, axis, flex\u001b[39m=\u001b[39;49m\u001b[39mFalse\u001b[39;49;00m, level\u001b[39m=\u001b[39;49m\u001b[39mNone\u001b[39;49;00m)\n\u001b[1;32m   6939\u001b[0m     \u001b[39m# See GH#4537 for discussion of scalar op behavior\u001b[39;00m\n\u001b[1;32m   6940\u001b[0m     new_data \u001b[39m=\u001b[39m \u001b[39mself\u001b[39m\u001b[39m.\u001b[39m_dispatch_frame_op(other, op, axis\u001b[39m=\u001b[39maxis)\n",
      "File \u001b[0;32m~/miniconda3/lib/python3.9/site-packages/pandas/core/ops/__init__.py:289\u001b[0m, in \u001b[0;36malign_method_FRAME\u001b[0;34m(left, right, axis, flex, level)\u001b[0m\n\u001b[1;32m    287\u001b[0m             left, right \u001b[39m=\u001b[39m left\u001b[39m.\u001b[39malign(right, join\u001b[39m=\u001b[39m\u001b[39m\"\u001b[39m\u001b[39mouter\u001b[39m\u001b[39m\"\u001b[39m, level\u001b[39m=\u001b[39mlevel, copy\u001b[39m=\u001b[39m\u001b[39mFalse\u001b[39;00m)\n\u001b[1;32m    288\u001b[0m         \u001b[39melse\u001b[39;00m:\n\u001b[0;32m--> 289\u001b[0m             \u001b[39mraise\u001b[39;00m \u001b[39mValueError\u001b[39;00m(\n\u001b[1;32m    290\u001b[0m                 \u001b[39m\"\u001b[39m\u001b[39mCan only compare identically-labeled DataFrame objects\u001b[39m\u001b[39m\"\u001b[39m\n\u001b[1;32m    291\u001b[0m             )\n\u001b[1;32m    292\u001b[0m \u001b[39melif\u001b[39;00m \u001b[39misinstance\u001b[39m(right, ABCSeries):\n\u001b[1;32m    293\u001b[0m     \u001b[39m# axis=1 is default for DataFrame-with-Series op\u001b[39;00m\n\u001b[1;32m    294\u001b[0m     axis \u001b[39m=\u001b[39m left\u001b[39m.\u001b[39m_get_axis_number(axis) \u001b[39mif\u001b[39;00m axis \u001b[39mis\u001b[39;00m \u001b[39mnot\u001b[39;00m \u001b[39mNone\u001b[39;00m \u001b[39melse\u001b[39;00m \u001b[39m1\u001b[39m\n",
      "\u001b[0;31mValueError\u001b[0m: Can only compare identically-labeled DataFrame objects"
     ]
    }
   ],
   "source": [
    "np.where(df1>df2,df2)"
   ]
  }
 ],
 "metadata": {
  "kernelspec": {
   "display_name": "Python 3.9.12 ('base')",
   "language": "python",
   "name": "python3"
  },
  "language_info": {
   "codemirror_mode": {
    "name": "ipython",
    "version": 3
   },
   "file_extension": ".py",
   "mimetype": "text/x-python",
   "name": "python",
   "nbconvert_exporter": "python",
   "pygments_lexer": "ipython3",
   "version": "3.9.12"
  },
  "orig_nbformat": 4,
  "vscode": {
   "interpreter": {
    "hash": "7b2c7660418be0c1c726d92d797a7ce8f65e49b2683610c7a567c05150d58fed"
   }
  }
 },
 "nbformat": 4,
 "nbformat_minor": 2
}
