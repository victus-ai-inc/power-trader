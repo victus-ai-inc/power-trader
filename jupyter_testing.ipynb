{
 "cells": [
  {
   "cell_type": "code",
   "execution_count": 1,
   "metadata": {},
   "outputs": [],
   "source": [
    "from datetime import datetime, timedelta, date\n",
    "from dateutil.relativedelta import relativedelta\n",
    "import pandas as pd\n",
    "from pandasql import sqldf\n",
    "import streamlit as st\n",
    "import pull_nrg_data\n",
    "import json\n",
    "import http.client\n",
    "import certifi\n",
    "import ssl\n",
    "import os\n",
    "import timeit\n",
    "import pickle\n",
    "import altair as alt\n",
    "import pytz\n",
    "import numpy as np\n",
    "tz = pytz.timezone('America/Edmonton')"
   ]
  },
  {
   "cell_type": "code",
   "execution_count": 20,
   "metadata": {},
   "outputs": [],
   "source": [
    "def write_pickle(df_name):\n",
    "    with open(f'./{df_name}.pickle', 'rb') as handle:\n",
    "        dfs = pickle.load(handle)\n",
    "    for i in range(4):\n",
    "        df = dfs[4][1]\n",
    "        df = df[~df['fuelType'].isin(['3-Day Solar Forecast','7-Day Wind Forecast'])]\n",
    "        dfs[i] = (dfs[4][0], df)\n",
    "    with open(f'./{df_name}.pickle', 'wb') as handle:\n",
    "        pickle.dump(dfs, handle, protocol=pickle.HIGHEST_PROTOCOL)\n",
    "write_pickle('daily_df')\n",
    "write_pickle('monthly_df')"
   ]
  },
  {
   "cell_type": "code",
   "execution_count": 21,
   "metadata": {},
   "outputs": [
    {
     "data": {
      "text/html": [
       "<div>\n",
       "<style scoped>\n",
       "    .dataframe tbody tr th:only-of-type {\n",
       "        vertical-align: middle;\n",
       "    }\n",
       "\n",
       "    .dataframe tbody tr th {\n",
       "        vertical-align: top;\n",
       "    }\n",
       "\n",
       "    .dataframe thead th {\n",
       "        text-align: right;\n",
       "    }\n",
       "</style>\n",
       "<table border=\"1\" class=\"dataframe\">\n",
       "  <thead>\n",
       "    <tr style=\"text-align: right;\">\n",
       "      <th></th>\n",
       "      <th>timeStamp</th>\n",
       "      <th>value</th>\n",
       "      <th>fuelType</th>\n",
       "    </tr>\n",
       "  </thead>\n",
       "  <tbody>\n",
       "    <tr>\n",
       "      <th>0</th>\n",
       "      <td>2022-10-03 00:00:00-06:00</td>\n",
       "      <td>750.0</td>\n",
       "      <td>Intertie</td>\n",
       "    </tr>\n",
       "    <tr>\n",
       "      <th>1</th>\n",
       "      <td>2022-10-03 01:00:00-06:00</td>\n",
       "      <td>750.0</td>\n",
       "      <td>Intertie</td>\n",
       "    </tr>\n",
       "    <tr>\n",
       "      <th>2</th>\n",
       "      <td>2022-10-03 02:00:00-06:00</td>\n",
       "      <td>750.0</td>\n",
       "      <td>Intertie</td>\n",
       "    </tr>\n",
       "    <tr>\n",
       "      <th>3</th>\n",
       "      <td>2022-10-03 03:00:00-06:00</td>\n",
       "      <td>750.0</td>\n",
       "      <td>Intertie</td>\n",
       "    </tr>\n",
       "    <tr>\n",
       "      <th>4</th>\n",
       "      <td>2022-10-03 04:00:00-06:00</td>\n",
       "      <td>750.0</td>\n",
       "      <td>Intertie</td>\n",
       "    </tr>\n",
       "    <tr>\n",
       "      <th>...</th>\n",
       "      <td>...</td>\n",
       "      <td>...</td>\n",
       "      <td>...</td>\n",
       "    </tr>\n",
       "    <tr>\n",
       "      <th>23051</th>\n",
       "      <td>2023-01-30 20:00:00-07:00</td>\n",
       "      <td>0.0</td>\n",
       "      <td>Wind</td>\n",
       "    </tr>\n",
       "    <tr>\n",
       "      <th>23052</th>\n",
       "      <td>2023-01-30 21:00:00-07:00</td>\n",
       "      <td>0.0</td>\n",
       "      <td>Wind</td>\n",
       "    </tr>\n",
       "    <tr>\n",
       "      <th>23053</th>\n",
       "      <td>2023-01-30 22:00:00-07:00</td>\n",
       "      <td>0.0</td>\n",
       "      <td>Wind</td>\n",
       "    </tr>\n",
       "    <tr>\n",
       "      <th>23054</th>\n",
       "      <td>2023-01-30 23:00:00-07:00</td>\n",
       "      <td>0.0</td>\n",
       "      <td>Wind</td>\n",
       "    </tr>\n",
       "    <tr>\n",
       "      <th>23055</th>\n",
       "      <td>2023-01-31 00:00:00-07:00</td>\n",
       "      <td>0.0</td>\n",
       "      <td>Wind</td>\n",
       "    </tr>\n",
       "  </tbody>\n",
       "</table>\n",
       "<p>31744 rows × 3 columns</p>\n",
       "</div>"
      ],
      "text/plain": [
       "                      timeStamp  value  fuelType\n",
       "0     2022-10-03 00:00:00-06:00  750.0  Intertie\n",
       "1     2022-10-03 01:00:00-06:00  750.0  Intertie\n",
       "2     2022-10-03 02:00:00-06:00  750.0  Intertie\n",
       "3     2022-10-03 03:00:00-06:00  750.0  Intertie\n",
       "4     2022-10-03 04:00:00-06:00  750.0  Intertie\n",
       "...                         ...    ...       ...\n",
       "23051 2023-01-30 20:00:00-07:00    0.0      Wind\n",
       "23052 2023-01-30 21:00:00-07:00    0.0      Wind\n",
       "23053 2023-01-30 22:00:00-07:00    0.0      Wind\n",
       "23054 2023-01-30 23:00:00-07:00    0.0      Wind\n",
       "23055 2023-01-31 00:00:00-07:00    0.0      Wind\n",
       "\n",
       "[31744 rows x 3 columns]"
      ]
     },
     "execution_count": 21,
     "metadata": {},
     "output_type": "execute_result"
    }
   ],
   "source": [
    "with open('./daily_df.pickle', 'rb') as handle:\n",
    "        dfs = pickle.load(handle)\n",
    "dfs[0][1]"
   ]
  },
  {
   "cell_type": "code",
   "execution_count": 37,
   "metadata": {},
   "outputs": [
    {
     "data": {
      "text/plain": [
       "{'ryan': {'logon': datetime.datetime(2022, 10, 3, 14, 53, 40, 362136),\n",
       "  'lastlog': datetime.datetime(2022, 10, 3, 15, 53, 40, 362159)}}"
      ]
     },
     "execution_count": 37,
     "metadata": {},
     "output_type": "execute_result"
    }
   ],
   "source": [
    "dct = {}\n",
    "dct['ryan'] = {'logon':datetime.now()-timedelta(hours=1), 'lastlog':datetime.now()}\n",
    "#dct['jeff'] = (datetime.now()-timedelta(hours=1), datetime.now())\n",
    "dct"
   ]
  },
  {
   "cell_type": "code",
   "execution_count": 41,
   "metadata": {},
   "outputs": [
    {
     "data": {
      "text/plain": [
       "datetime.datetime(2022, 10, 3, 15, 53, 40, 362159)"
      ]
     },
     "execution_count": 41,
     "metadata": {},
     "output_type": "execute_result"
    }
   ],
   "source": [
    "dct['ryan']['lastlog']"
   ]
  }
 ],
 "metadata": {
  "kernelspec": {
   "display_name": "Python 3.8.10 64-bit",
   "language": "python",
   "name": "python3"
  },
  "language_info": {
   "codemirror_mode": {
    "name": "ipython",
    "version": 3
   },
   "file_extension": ".py",
   "mimetype": "text/x-python",
   "name": "python",
   "nbconvert_exporter": "python",
   "pygments_lexer": "ipython3",
   "version": "3.8.10"
  },
  "orig_nbformat": 4,
  "vscode": {
   "interpreter": {
    "hash": "916dbcbb3f70747c44a77c7bcd40155683ae19c65e1c03b4aa3499c5328201f1"
   }
  }
 },
 "nbformat": 4,
 "nbformat_minor": 2
}
