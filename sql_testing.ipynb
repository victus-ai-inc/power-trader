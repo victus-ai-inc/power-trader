{
 "cells": [
  {
   "cell_type": "code",
   "execution_count": 12,
   "metadata": {},
   "outputs": [],
   "source": [
    "import mysql.connector\n",
    "import pandas as pd\n",
    "# Connect to MySQL\n",
    "nrgdata = mysql.connector.connect(user='victusai', password='#p!k4XG2Mg#,B,W', host='localhost', database='nrgdata')\n",
    "mycursor = nrgdata.cursor()"
   ]
  },
  {
   "cell_type": "code",
   "execution_count": null,
   "metadata": {},
   "outputs": [],
   "source": [
    "# Create Table\n",
    "mycursor.execute(\"CREATE TABLE customers (id INT AUTO_INCREMENT PRIMARY KEY, name VARCHAR(255), address VARCHAR(255))\")"
   ]
  },
  {
   "cell_type": "code",
   "execution_count": 14,
   "metadata": {},
   "outputs": [],
   "source": [
    "df = pd.read_csv('test.csv')"
   ]
  },
  {
   "cell_type": "code",
   "execution_count": null,
   "metadata": {},
   "outputs": [
    {
     "name": "stdout",
     "output_type": "stream",
     "text": [
      "<class 'pandas.core.frame.DataFrame'>\n",
      "RangeIndex: 8928 entries, 0 to 8927\n",
      "Data columns (total 9 columns):\n",
      " #   Column        Non-Null Count  Dtype \n",
      "---  ------        --------------  ----- \n",
      " 0   timeStamp     8928 non-null   object\n",
      " 1   value         8928 non-null   int64 \n",
      " 2   streamId      8928 non-null   int64 \n",
      " 3   assetCode     8928 non-null   object\n",
      " 4   streamName    8928 non-null   object\n",
      " 5   fuelType      8928 non-null   object\n",
      " 6   subfuelType   8928 non-null   object\n",
      " 7   timeInterval  8928 non-null   object\n",
      " 8   intervalType  8928 non-null   object\n",
      "dtypes: int64(2), object(7)\n",
      "memory usage: 627.9+ KB\n"
     ]
    }
   ],
   "source": [
    "df.info()"
   ]
  },
  {
   "cell_type": "code",
   "execution_count": null,
   "metadata": {},
   "outputs": [],
   "source": [
    "# Insert into\n"
   ]
  },
  {
   "cell_type": "code",
   "execution_count": null,
   "metadata": {},
   "outputs": [],
   "source": [
    "# Close connection\n",
    "mycursor.close()\n",
    "nrgdata.close()"
   ]
  },
  {
   "cell_type": "code",
   "execution_count": 15,
   "metadata": {},
   "outputs": [
    {
     "data": {
      "text/html": [
       "<div>\n",
       "<style scoped>\n",
       "    .dataframe tbody tr th:only-of-type {\n",
       "        vertical-align: middle;\n",
       "    }\n",
       "\n",
       "    .dataframe tbody tr th {\n",
       "        vertical-align: top;\n",
       "    }\n",
       "\n",
       "    .dataframe thead th {\n",
       "        text-align: right;\n",
       "    }\n",
       "</style>\n",
       "<table border=\"1\" class=\"dataframe\">\n",
       "  <thead>\n",
       "    <tr style=\"text-align: right;\">\n",
       "      <th></th>\n",
       "      <th>streamId</th>\n",
       "      <th>assetCode</th>\n",
       "      <th>streamName</th>\n",
       "      <th>fuelType</th>\n",
       "      <th>subfuelType</th>\n",
       "      <th>timeInterval</th>\n",
       "      <th>intervalType</th>\n",
       "    </tr>\n",
       "  </thead>\n",
       "  <tbody>\n",
       "    <tr>\n",
       "      <th>0</th>\n",
       "      <td>293682</td>\n",
       "      <td>ANC1</td>\n",
       "      <td>AB Newsprint</td>\n",
       "      <td>Natural Gas</td>\n",
       "      <td>Simple Gas</td>\n",
       "      <td>1 min</td>\n",
       "      <td>supply</td>\n",
       "    </tr>\n",
       "    <tr>\n",
       "      <th>1</th>\n",
       "      <td>293686</td>\n",
       "      <td>ALP1</td>\n",
       "      <td>Bantry</td>\n",
       "      <td>Natural Gas</td>\n",
       "      <td>Simple Gas</td>\n",
       "      <td>1 min</td>\n",
       "      <td>supply</td>\n",
       "    </tr>\n",
       "    <tr>\n",
       "      <th>2</th>\n",
       "      <td>293689</td>\n",
       "      <td>BHL1</td>\n",
       "      <td>Bellshill</td>\n",
       "      <td>Natural Gas</td>\n",
       "      <td>Simple Gas</td>\n",
       "      <td>1 min</td>\n",
       "      <td>supply</td>\n",
       "    </tr>\n",
       "    <tr>\n",
       "      <th>3</th>\n",
       "      <td>293705</td>\n",
       "      <td>GEN5</td>\n",
       "      <td>Carson Creek</td>\n",
       "      <td>Natural Gas</td>\n",
       "      <td>Simple Gas</td>\n",
       "      <td>1 min</td>\n",
       "      <td>supply</td>\n",
       "    </tr>\n",
       "    <tr>\n",
       "      <th>4</th>\n",
       "      <td>293714</td>\n",
       "      <td>ENC1</td>\n",
       "      <td>Cloverbar #1</td>\n",
       "      <td>Natural Gas</td>\n",
       "      <td>Simple Gas</td>\n",
       "      <td>1 min</td>\n",
       "      <td>supply</td>\n",
       "    </tr>\n",
       "    <tr>\n",
       "      <th>...</th>\n",
       "      <td>...</td>\n",
       "      <td>...</td>\n",
       "      <td>...</td>\n",
       "      <td>...</td>\n",
       "      <td>...</td>\n",
       "      <td>...</td>\n",
       "      <td>...</td>\n",
       "    </tr>\n",
       "    <tr>\n",
       "      <th>511</th>\n",
       "      <td>NaN</td>\n",
       "      <td>NaN</td>\n",
       "      <td>NaN</td>\n",
       "      <td>NaN</td>\n",
       "      <td>NaN</td>\n",
       "      <td>NaN</td>\n",
       "      <td>NaN</td>\n",
       "    </tr>\n",
       "    <tr>\n",
       "      <th>512</th>\n",
       "      <td>1 min supp</td>\n",
       "      <td>162</td>\n",
       "      <td>525600</td>\n",
       "      <td>85,147,200</td>\n",
       "      <td>NaN</td>\n",
       "      <td>NaN</td>\n",
       "      <td>NaN</td>\n",
       "    </tr>\n",
       "    <tr>\n",
       "      <th>513</th>\n",
       "      <td>5 min supp</td>\n",
       "      <td>173</td>\n",
       "      <td>105120</td>\n",
       "      <td>18,185,760</td>\n",
       "      <td>NaN</td>\n",
       "      <td>NaN</td>\n",
       "      <td>NaN</td>\n",
       "    </tr>\n",
       "    <tr>\n",
       "      <th>514</th>\n",
       "      <td>5 min res</td>\n",
       "      <td>173</td>\n",
       "      <td>105120</td>\n",
       "      <td>18,185,760</td>\n",
       "      <td>NaN</td>\n",
       "      <td>NaN</td>\n",
       "      <td>NaN</td>\n",
       "    </tr>\n",
       "    <tr>\n",
       "      <th>515</th>\n",
       "      <td>NaN</td>\n",
       "      <td>NaN</td>\n",
       "      <td>NaN</td>\n",
       "      <td>121,518,720</td>\n",
       "      <td>NaN</td>\n",
       "      <td>NaN</td>\n",
       "      <td>NaN</td>\n",
       "    </tr>\n",
       "  </tbody>\n",
       "</table>\n",
       "<p>516 rows × 7 columns</p>\n",
       "</div>"
      ],
      "text/plain": [
       "       streamId assetCode    streamName     fuelType subfuelType timeInterval  \\\n",
       "0        293682      ANC1  AB Newsprint  Natural Gas  Simple Gas        1 min   \n",
       "1        293686      ALP1        Bantry  Natural Gas  Simple Gas        1 min   \n",
       "2        293689      BHL1     Bellshill  Natural Gas  Simple Gas        1 min   \n",
       "3        293705      GEN5  Carson Creek  Natural Gas  Simple Gas        1 min   \n",
       "4        293714      ENC1  Cloverbar #1  Natural Gas  Simple Gas        1 min   \n",
       "..          ...       ...           ...          ...         ...          ...   \n",
       "511         NaN       NaN           NaN          NaN         NaN          NaN   \n",
       "512  1 min supp       162        525600   85,147,200         NaN          NaN   \n",
       "513  5 min supp       173        105120   18,185,760         NaN          NaN   \n",
       "514   5 min res       173        105120   18,185,760         NaN          NaN   \n",
       "515         NaN       NaN           NaN  121,518,720         NaN          NaN   \n",
       "\n",
       "    intervalType  \n",
       "0         supply  \n",
       "1         supply  \n",
       "2         supply  \n",
       "3         supply  \n",
       "4         supply  \n",
       "..           ...  \n",
       "511          NaN  \n",
       "512          NaN  \n",
       "513          NaN  \n",
       "514          NaN  \n",
       "515          NaN  \n",
       "\n",
       "[516 rows x 7 columns]"
      ]
     },
     "execution_count": 15,
     "metadata": {},
     "output_type": "execute_result"
    }
   ],
   "source": [
    "sc = pd.read_csv('stream_codes.csv')\n",
    "sc"
   ]
  }
 ],
 "metadata": {
  "kernelspec": {
   "display_name": "Python 3.9.5 ('base')",
   "language": "python",
   "name": "python3"
  },
  "language_info": {
   "codemirror_mode": {
    "name": "ipython",
    "version": 3
   },
   "file_extension": ".py",
   "mimetype": "text/x-python",
   "name": "python",
   "nbconvert_exporter": "python",
   "pygments_lexer": "ipython3",
   "version": "3.9.5"
  },
  "orig_nbformat": 4,
  "vscode": {
   "interpreter": {
    "hash": "710bc052465d42959114ed373ef47569866b95a2630eb07410e83cf69e3117ee"
   }
  }
 },
 "nbformat": 4,
 "nbformat_minor": 2
}
